{
  "nbformat": 4,
  "nbformat_minor": 0,
  "metadata": {
    "kernelspec": {
      "display_name": "Python 3",
      "language": "python",
      "name": "python3"
    },
    "language_info": {
      "codemirror_mode": {
        "name": "ipython",
        "version": 3
      },
      "file_extension": ".py",
      "mimetype": "text/x-python",
      "name": "python",
      "nbconvert_exporter": "python",
      "pygments_lexer": "ipython3",
      "version": "3.7.6"
    },
    "colab": {
      "name": "python-crash-course-notebook.ipynb",
      "provenance": [],
      "collapsed_sections": [
        "xPcVi8MaTLXZ",
        "AVKJp2kuTLXm",
        "GvnqzQ-BTLX6",
        "3W3OBbIfTLYP",
        "wIB4R2yLTLYZ",
        "3_E28oKaTLZN",
        "tFbx2snITLZt",
        "ipYoL89GTLap",
        "kHesXUhNTLbE",
        "FQG_nOLYTLbg",
        "Tsohn9AuTLbm",
        "lkiysSlaTLcM",
        "UPUKH1iCTLci",
        "XSktxxw5TLcr",
        "O21nbKOHTLcs",
        "BkK2A-i3TLdG",
        "KNYs1_lWTLdU",
        "UxtxLNV2TLdn",
        "Jiuc2ynUTLdp",
        "tEjZpW28TLd_",
        "VKzMlAwJTLeF",
        "xmqDSK_4TLeL",
        "87Y90QcnTLfy",
        "TrEaTQZXTLf1",
        "YvP878dgTLgC",
        "XIHLvq5wTLgZ"
      ],
      "include_colab_link": true
    }
  },
  "cells": [
    {
      "cell_type": "markdown",
      "metadata": {
        "id": "view-in-github",
        "colab_type": "text"
      },
      "source": [
        "<a href=\"https://colab.research.google.com/github/rychen96/codergirl-python/blob/master/python_crash_course_notebook.ipynb\" target=\"_parent\"><img src=\"https://colab.research.google.com/assets/colab-badge.svg\" alt=\"Open In Colab\"/></a>"
      ]
    },
    {
      "cell_type": "markdown",
      "metadata": {
        "id": "4F_ZMURoTLWQ",
        "colab_type": "text"
      },
      "source": [
        "# Python Crash Course\n",
        "\n",
        "This notebook will just go through the basic topics in order:\n",
        "\n",
        "* Data Types\n",
        "    * Primitive Data Types\n",
        "        * None - None\n",
        "        * Integer Numbers - int\n",
        "        * Floating Point Numbers - float\n",
        "        * Strings - str\n",
        "        * Booleans - bool\n",
        "        * (Type Conversion)\n",
        "        * (Variable Assignment)\n",
        "        * (Printing)\n",
        "    * Collection Data Types \n",
        "        * Lists - list\n",
        "        * Sets - set\n",
        "        * Tuples - tuple\n",
        "            * Tuple Unpacking\n",
        "        * Dictionaries - dict\n",
        "* Operators\n",
        "    * Arithmetic operators\n",
        "    * Assignment operators\n",
        "    * Comparison operators\n",
        "    * Logical operators\n",
        "    * Membership Operator\n",
        "* Pseudocode\n",
        "* Statements\n",
        "    * Sequential Statements\n",
        "        * Printing\n",
        "    * Conditional Statements\n",
        "        * if, elif, else\n",
        "    * Loop Commands\n",
        "        * for Loops\n",
        "            * (list comprehension)\n",
        "        * while Loops\n",
        "* Functions; Lambda Expressions\n",
        "    * functions\n",
        "        * range()        \n",
        "    * lambda expressions\n",
        "    * map() and filter()\n",
        "* Class; Object; Methods    "
      ]
    },
    {
      "cell_type": "markdown",
      "metadata": {
        "id": "Sk7PhcHUTLWS",
        "colab_type": "text"
      },
      "source": [
        "## Data types\n",
        "\n",
        "## Primitive Data Types"
      ]
    },
    {
      "cell_type": "markdown",
      "metadata": {
        "id": "UhgiZ7wYTLWT",
        "colab_type": "text"
      },
      "source": [
        "### None\n",
        "\n",
        "- **None** represent absence of a value"
      ]
    },
    {
      "cell_type": "code",
      "metadata": {
        "id": "g0arXKsFTLWV",
        "colab_type": "code",
        "colab": {},
        "outputId": "7acf59ef-1327-492b-b082-ad17ab6d10fc"
      },
      "source": [
        "type(None)"
      ],
      "execution_count": 0,
      "outputs": [
        {
          "output_type": "execute_result",
          "data": {
            "text/plain": [
              "NoneType"
            ]
          },
          "metadata": {
            "tags": []
          },
          "execution_count": 1
        }
      ]
    },
    {
      "cell_type": "code",
      "metadata": {
        "id": "XGWFDPunTLWc",
        "colab_type": "code",
        "colab": {},
        "outputId": "10bd85f4-b3ab-4848-d34e-1fd901a7ddaf"
      },
      "source": [
        "none1_var = None\n",
        "print(none1_var)"
      ],
      "execution_count": 0,
      "outputs": [
        {
          "output_type": "stream",
          "text": [
            "None\n"
          ],
          "name": "stdout"
        }
      ]
    },
    {
      "cell_type": "markdown",
      "metadata": {
        "id": "wUM5w-4ATLWh",
        "colab_type": "text"
      },
      "source": [
        "### Integer Numbers \n",
        "\n",
        "- Type **int**\n",
        "- Can be both postive and negative\n",
        "- Should **ALWAYS** be Whole Numbers i.e. without fractions"
      ]
    },
    {
      "cell_type": "code",
      "metadata": {
        "id": "NZOyvFLuTLWi",
        "colab_type": "code",
        "colab": {},
        "outputId": "d7a05643-0226-4c23-f5f3-941fd88fa8f6"
      },
      "source": [
        "type(1)"
      ],
      "execution_count": 0,
      "outputs": [
        {
          "output_type": "execute_result",
          "data": {
            "text/plain": [
              "int"
            ]
          },
          "metadata": {
            "tags": []
          },
          "execution_count": 3
        }
      ]
    },
    {
      "cell_type": "code",
      "metadata": {
        "id": "BYd53zweTLWl",
        "colab_type": "code",
        "colab": {},
        "outputId": "a5bbc023-46b2-4731-b98c-ebc56e5c470e"
      },
      "source": [
        "1 + 1"
      ],
      "execution_count": 0,
      "outputs": [
        {
          "output_type": "execute_result",
          "data": {
            "text/plain": [
              "2"
            ]
          },
          "metadata": {
            "tags": []
          },
          "execution_count": 4
        }
      ]
    },
    {
      "cell_type": "code",
      "metadata": {
        "id": "DpBApw17TLWq",
        "colab_type": "code",
        "colab": {},
        "outputId": "84069944-9c7e-4ef7-d679-cf47dc4da34e"
      },
      "source": [
        "1 * 3"
      ],
      "execution_count": 0,
      "outputs": [
        {
          "output_type": "execute_result",
          "data": {
            "text/plain": [
              "3"
            ]
          },
          "metadata": {
            "tags": []
          },
          "execution_count": 5
        }
      ]
    },
    {
      "cell_type": "code",
      "metadata": {
        "id": "S1jDxt2RTLWu",
        "colab_type": "code",
        "colab": {},
        "outputId": "940e3465-c282-4cee-f2ff-d456c4e5185f"
      },
      "source": [
        "1 / 2"
      ],
      "execution_count": 0,
      "outputs": [
        {
          "output_type": "execute_result",
          "data": {
            "text/plain": [
              "0.5"
            ]
          },
          "metadata": {
            "tags": []
          },
          "execution_count": 6
        }
      ]
    },
    {
      "cell_type": "code",
      "metadata": {
        "id": "mamd4uBTTLWy",
        "colab_type": "code",
        "colab": {},
        "outputId": "467cda83-2faa-407b-b9da-f6f8e609e8ef"
      },
      "source": [
        "2 ** 4"
      ],
      "execution_count": 0,
      "outputs": [
        {
          "output_type": "execute_result",
          "data": {
            "text/plain": [
              "16"
            ]
          },
          "metadata": {
            "tags": []
          },
          "execution_count": 7
        }
      ]
    },
    {
      "cell_type": "code",
      "metadata": {
        "id": "rw9K9wqKTLW3",
        "colab_type": "code",
        "colab": {},
        "outputId": "e28d33c8-fd3c-4b8b-ae42-46c814019b28"
      },
      "source": [
        "4 % 2"
      ],
      "execution_count": 0,
      "outputs": [
        {
          "output_type": "execute_result",
          "data": {
            "text/plain": [
              "0"
            ]
          },
          "metadata": {
            "tags": []
          },
          "execution_count": 8
        }
      ]
    },
    {
      "cell_type": "code",
      "metadata": {
        "id": "LiivKz-eTLW_",
        "colab_type": "code",
        "colab": {},
        "outputId": "5fa3dd92-8024-4417-e40d-db1469a91387"
      },
      "source": [
        "5 % 2"
      ],
      "execution_count": 0,
      "outputs": [
        {
          "output_type": "execute_result",
          "data": {
            "text/plain": [
              "1"
            ]
          },
          "metadata": {
            "tags": []
          },
          "execution_count": 9
        }
      ]
    },
    {
      "cell_type": "markdown",
      "metadata": {
        "id": "VA4mcsOkTLXK",
        "colab_type": "text"
      },
      "source": [
        "#### Order of Operation\n",
        "\n",
        "Ref: https://docs.python.org/3/reference/expressions.html#operator-precedence"
      ]
    },
    {
      "cell_type": "code",
      "metadata": {
        "id": "Dd1TJhe6TLXL",
        "colab_type": "code",
        "colab": {},
        "outputId": "6447ff3a-0646-482b-f7d8-ae72ad73d6df"
      },
      "source": [
        "2 + 3 * 5 + 5"
      ],
      "execution_count": 0,
      "outputs": [
        {
          "output_type": "execute_result",
          "data": {
            "text/plain": [
              "22"
            ]
          },
          "metadata": {
            "tags": []
          },
          "execution_count": 10
        }
      ]
    },
    {
      "cell_type": "code",
      "metadata": {
        "id": "gWsukWvBTLXQ",
        "colab_type": "code",
        "colab": {},
        "outputId": "75d828a3-7e2a-4524-e8d9-088c5cea4e53"
      },
      "source": [
        "2 + (3 * 5) + 5"
      ],
      "execution_count": 0,
      "outputs": [
        {
          "output_type": "execute_result",
          "data": {
            "text/plain": [
              "22"
            ]
          },
          "metadata": {
            "tags": []
          },
          "execution_count": 11
        }
      ]
    },
    {
      "cell_type": "code",
      "metadata": {
        "id": "wQIl2k8zTLXV",
        "colab_type": "code",
        "colab": {},
        "outputId": "43e2b462-664e-4400-d9e7-601799ca220e"
      },
      "source": [
        "(2 + 3) * (5 + 5)"
      ],
      "execution_count": 0,
      "outputs": [
        {
          "output_type": "execute_result",
          "data": {
            "text/plain": [
              "50"
            ]
          },
          "metadata": {
            "tags": []
          },
          "execution_count": 12
        }
      ]
    },
    {
      "cell_type": "markdown",
      "metadata": {
        "id": "xPcVi8MaTLXZ",
        "colab_type": "text"
      },
      "source": [
        "### Floating Point Numbers\n",
        "\n",
        "- Type **float**\n",
        "- Represent Numbers with fractions"
      ]
    },
    {
      "cell_type": "code",
      "metadata": {
        "id": "O4oQTGSETLXa",
        "colab_type": "code",
        "colab": {},
        "outputId": "482d8470-0673-4707-a58f-8be079c9c4a5"
      },
      "source": [
        "type(1.0)"
      ],
      "execution_count": 0,
      "outputs": [
        {
          "output_type": "execute_result",
          "data": {
            "text/plain": [
              "float"
            ]
          },
          "metadata": {
            "tags": []
          },
          "execution_count": 13
        }
      ]
    },
    {
      "cell_type": "code",
      "metadata": {
        "id": "JgkU_DChTLXe",
        "colab_type": "code",
        "colab": {},
        "outputId": "be9b0fec-4f0c-406d-d1a2-2bfd8b418ff8"
      },
      "source": [
        "1.0 * 3.0"
      ],
      "execution_count": 0,
      "outputs": [
        {
          "output_type": "execute_result",
          "data": {
            "text/plain": [
              "3.0"
            ]
          },
          "metadata": {
            "tags": []
          },
          "execution_count": 14
        }
      ]
    },
    {
      "cell_type": "markdown",
      "metadata": {
        "id": "AVKJp2kuTLXm",
        "colab_type": "text"
      },
      "source": [
        "### Strings\n",
        "\n",
        "- Immutable sequence of characters"
      ]
    },
    {
      "cell_type": "code",
      "metadata": {
        "id": "elHlqUGzTLXn",
        "colab_type": "code",
        "colab": {}
      },
      "source": [
        "# 'COMMENTED STRING'"
      ],
      "execution_count": 0,
      "outputs": []
    },
    {
      "cell_type": "code",
      "metadata": {
        "id": "ZBeGNuQPTLXq",
        "colab_type": "code",
        "colab": {},
        "outputId": "9c34ebda-6618-4a0b-fc14-2cd3602e8f80"
      },
      "source": [
        "'single quotes'"
      ],
      "execution_count": 0,
      "outputs": [
        {
          "output_type": "execute_result",
          "data": {
            "text/plain": [
              "'single quotes'"
            ]
          },
          "metadata": {
            "tags": []
          },
          "execution_count": 16
        }
      ]
    },
    {
      "cell_type": "code",
      "metadata": {
        "id": "inWTgQy_TLXu",
        "colab_type": "code",
        "colab": {},
        "outputId": "95ee9fa8-fc3e-413d-970e-22ce371220d9"
      },
      "source": [
        "\"double quotes\""
      ],
      "execution_count": 0,
      "outputs": [
        {
          "output_type": "execute_result",
          "data": {
            "text/plain": [
              "'double quotes'"
            ]
          },
          "metadata": {
            "tags": []
          },
          "execution_count": 17
        }
      ]
    },
    {
      "cell_type": "code",
      "metadata": {
        "id": "6keggFdcTLXx",
        "colab_type": "code",
        "colab": {},
        "outputId": "45dabd43-db51-47b1-ddad-2198e19cd3ef"
      },
      "source": [
        "\" wrap lot's of other quotes\""
      ],
      "execution_count": 0,
      "outputs": [
        {
          "output_type": "execute_result",
          "data": {
            "text/plain": [
              "\" wrap lot's of other quotes\""
            ]
          },
          "metadata": {
            "tags": []
          },
          "execution_count": 18
        }
      ]
    },
    {
      "cell_type": "code",
      "metadata": {
        "id": "Bxd7HKGKTLX1",
        "colab_type": "code",
        "colab": {},
        "outputId": "86f47a96-606f-4c82-d1c7-88065dc8a736"
      },
      "source": [
        "' I love \"Python\"'"
      ],
      "execution_count": 0,
      "outputs": [
        {
          "output_type": "execute_result",
          "data": {
            "text/plain": [
              "' I love \"Python\"'"
            ]
          },
          "metadata": {
            "tags": []
          },
          "execution_count": 19
        }
      ]
    },
    {
      "cell_type": "code",
      "metadata": {
        "id": "D3Zpog3CTLX3",
        "colab_type": "code",
        "colab": {},
        "outputId": "bfb37940-1ddd-4353-efdf-d47765c33af1"
      },
      "source": [
        "'Hello' + ' World'"
      ],
      "execution_count": 0,
      "outputs": [
        {
          "output_type": "execute_result",
          "data": {
            "text/plain": [
              "'Hello World'"
            ]
          },
          "metadata": {
            "tags": []
          },
          "execution_count": 20
        }
      ]
    },
    {
      "cell_type": "markdown",
      "metadata": {
        "id": "GvnqzQ-BTLX6",
        "colab_type": "text"
      },
      "source": [
        "### Boolean"
      ]
    },
    {
      "cell_type": "code",
      "metadata": {
        "id": "XwnbzENtTLX7",
        "colab_type": "code",
        "colab": {},
        "outputId": "858fb113-8132-4e75-da39-828e40e1eab3"
      },
      "source": [
        "True"
      ],
      "execution_count": 0,
      "outputs": [
        {
          "output_type": "execute_result",
          "data": {
            "text/plain": [
              "True"
            ]
          },
          "metadata": {
            "tags": []
          },
          "execution_count": 21
        }
      ]
    },
    {
      "cell_type": "code",
      "metadata": {
        "id": "-fu4Q4omTLX9",
        "colab_type": "code",
        "colab": {},
        "outputId": "81ccb467-f0e7-4ff6-c5d3-d44832eccc9c"
      },
      "source": [
        "False"
      ],
      "execution_count": 0,
      "outputs": [
        {
          "output_type": "execute_result",
          "data": {
            "text/plain": [
              "False"
            ]
          },
          "metadata": {
            "tags": []
          },
          "execution_count": 22
        }
      ]
    },
    {
      "cell_type": "code",
      "metadata": {
        "id": "Y_8aD60TTLYA",
        "colab_type": "code",
        "colab": {},
        "outputId": "637c25d3-3b2b-45ab-a3a1-e8ba6a077db1"
      },
      "source": [
        "type(True)"
      ],
      "execution_count": 0,
      "outputs": [
        {
          "output_type": "execute_result",
          "data": {
            "text/plain": [
              "bool"
            ]
          },
          "metadata": {
            "tags": []
          },
          "execution_count": 23
        }
      ]
    },
    {
      "cell_type": "code",
      "metadata": {
        "id": "DOCSHVeiTLYE",
        "colab_type": "code",
        "colab": {},
        "outputId": "7e7dd800-605a-45d5-8c8a-81cff79998c2"
      },
      "source": [
        "type(False)"
      ],
      "execution_count": 0,
      "outputs": [
        {
          "output_type": "execute_result",
          "data": {
            "text/plain": [
              "bool"
            ]
          },
          "metadata": {
            "tags": []
          },
          "execution_count": 24
        }
      ]
    },
    {
      "cell_type": "code",
      "metadata": {
        "id": "gPoAte6KTLYJ",
        "colab_type": "code",
        "colab": {},
        "outputId": "dc40d39e-083f-41d9-d560-6ec90a1d7cb2"
      },
      "source": [
        "trueVar = True\n",
        "print(trueVar)"
      ],
      "execution_count": 0,
      "outputs": [
        {
          "output_type": "stream",
          "text": [
            "True\n"
          ],
          "name": "stdout"
        }
      ]
    },
    {
      "cell_type": "code",
      "metadata": {
        "id": "MN3A6Y85TLYN",
        "colab_type": "code",
        "colab": {},
        "outputId": "8349650d-0d09-45f6-df5d-bd46ba934535"
      },
      "source": [
        "type(trueVar)"
      ],
      "execution_count": 0,
      "outputs": [
        {
          "output_type": "execute_result",
          "data": {
            "text/plain": [
              "bool"
            ]
          },
          "metadata": {
            "tags": []
          },
          "execution_count": 26
        }
      ]
    },
    {
      "cell_type": "markdown",
      "metadata": {
        "id": "3W3OBbIfTLYP",
        "colab_type": "text"
      },
      "source": [
        "### Type Conversion\n",
        "\n",
        "- Implicit Type Conversion \n",
        "    - Done by Python Interpreter only.\n",
        "    - Always converts to wider Data Type. \n",
        "    - Data not lost\n",
        "- Explicit Type Conversion\n",
        "    - Done by Programmers by explicitly writing code\n",
        "    - Also called as Type Casting\n",
        "\n",
        "Reference: https://intellipaat.com/blog/tutorial/python-tutorial/type-conversion-in-python/"
      ]
    },
    {
      "cell_type": "code",
      "metadata": {
        "id": "JljRAjiXTLYQ",
        "colab_type": "code",
        "colab": {},
        "outputId": "e134b00c-9276-4b64-f662-4c360fff9448"
      },
      "source": [
        "# Implicit Type Conversion\n",
        "\n",
        "1.0 + 1"
      ],
      "execution_count": 0,
      "outputs": [
        {
          "output_type": "execute_result",
          "data": {
            "text/plain": [
              "2.0"
            ]
          },
          "metadata": {
            "tags": []
          },
          "execution_count": 27
        }
      ]
    },
    {
      "cell_type": "code",
      "metadata": {
        "id": "RHaCpPIETLYS",
        "colab_type": "code",
        "colab": {}
      },
      "source": [
        "# 'Hello' + 123"
      ],
      "execution_count": 0,
      "outputs": []
    },
    {
      "cell_type": "code",
      "metadata": {
        "id": "xuH5vFnITLYW",
        "colab_type": "code",
        "colab": {},
        "outputId": "f1c43d92-4f2b-40ca-e175-db3db42d4e96"
      },
      "source": [
        "# Explicit Type Conversion (Type Casting)\n",
        "'Hello' + str(123)"
      ],
      "execution_count": 0,
      "outputs": [
        {
          "output_type": "execute_result",
          "data": {
            "text/plain": [
              "'Hello123'"
            ]
          },
          "metadata": {
            "tags": []
          },
          "execution_count": 29
        }
      ]
    },
    {
      "cell_type": "markdown",
      "metadata": {
        "id": "wIB4R2yLTLYZ",
        "colab_type": "text"
      },
      "source": [
        "### Variable Assignment"
      ]
    },
    {
      "cell_type": "code",
      "metadata": {
        "jupyter": {
          "outputs_hidden": true
        },
        "id": "vyZ-WLMpTLYa",
        "colab_type": "code",
        "colab": {}
      },
      "source": [
        "# Can not start with number or special characters\n",
        "name_of_var = 2"
      ],
      "execution_count": 0,
      "outputs": []
    },
    {
      "cell_type": "code",
      "metadata": {
        "id": "-jbUG1HVTLYc",
        "colab_type": "code",
        "colab": {},
        "outputId": "3a3d5664-eecb-4294-cea3-4d43b6a81179"
      },
      "source": [
        "name_of_var"
      ],
      "execution_count": 0,
      "outputs": [
        {
          "output_type": "execute_result",
          "data": {
            "text/plain": [
              "2"
            ]
          },
          "metadata": {
            "tags": []
          },
          "execution_count": 31
        }
      ]
    },
    {
      "cell_type": "code",
      "metadata": {
        "id": "wbn7i46xTLYg",
        "colab_type": "code",
        "colab": {}
      },
      "source": [
        "# 123var = 2"
      ],
      "execution_count": 0,
      "outputs": []
    },
    {
      "cell_type": "code",
      "metadata": {
        "id": "GldcDMjWTLYp",
        "colab_type": "code",
        "colab": {}
      },
      "source": [
        "# $var = 2"
      ],
      "execution_count": 0,
      "outputs": []
    },
    {
      "cell_type": "code",
      "metadata": {
        "id": "X5qupkj6TLYt",
        "colab_type": "code",
        "colab": {},
        "outputId": "ca66623c-96b8-44b1-c9e1-773aabcec2bb"
      },
      "source": [
        "_var = 2\n",
        "_var"
      ],
      "execution_count": 0,
      "outputs": [
        {
          "output_type": "execute_result",
          "data": {
            "text/plain": [
              "2"
            ]
          },
          "metadata": {
            "tags": []
          },
          "execution_count": 34
        }
      ]
    },
    {
      "cell_type": "code",
      "metadata": {
        "jupyter": {
          "outputs_hidden": true
        },
        "id": "faouwkwuTLYw",
        "colab_type": "code",
        "colab": {}
      },
      "source": [
        "x = 2\n",
        "y = 3"
      ],
      "execution_count": 0,
      "outputs": []
    },
    {
      "cell_type": "code",
      "metadata": {
        "jupyter": {
          "outputs_hidden": true
        },
        "id": "XQ5oOOUyTLYz",
        "colab_type": "code",
        "colab": {}
      },
      "source": [
        "z = x + y"
      ],
      "execution_count": 0,
      "outputs": []
    },
    {
      "cell_type": "code",
      "metadata": {
        "id": "eAe5HwGtTLY5",
        "colab_type": "code",
        "colab": {},
        "outputId": "e61b7ab4-55f4-4ebc-fb81-2e81d2231a46"
      },
      "source": [
        "z"
      ],
      "execution_count": 0,
      "outputs": [
        {
          "output_type": "execute_result",
          "data": {
            "text/plain": [
              "5"
            ]
          },
          "metadata": {
            "tags": []
          },
          "execution_count": 37
        }
      ]
    },
    {
      "cell_type": "code",
      "metadata": {
        "id": "I2K1We_VTLY8",
        "colab_type": "code",
        "colab": {},
        "outputId": "e3b3e397-61bf-4bbd-d0a2-d8ddac79696a"
      },
      "source": [
        "type(z)"
      ],
      "execution_count": 0,
      "outputs": [
        {
          "output_type": "execute_result",
          "data": {
            "text/plain": [
              "int"
            ]
          },
          "metadata": {
            "tags": []
          },
          "execution_count": 38
        }
      ]
    },
    {
      "cell_type": "code",
      "metadata": {
        "id": "eUDwzOF_TLZA",
        "colab_type": "code",
        "colab": {}
      },
      "source": [
        "x = x+3"
      ],
      "execution_count": 0,
      "outputs": []
    },
    {
      "cell_type": "code",
      "metadata": {
        "id": "AUTddJdNTLZC",
        "colab_type": "code",
        "colab": {},
        "outputId": "87f5e912-9c27-4b54-a0ff-abccb2d485a6"
      },
      "source": [
        "x"
      ],
      "execution_count": 0,
      "outputs": [
        {
          "output_type": "execute_result",
          "data": {
            "text/plain": [
              "5"
            ]
          },
          "metadata": {
            "tags": []
          },
          "execution_count": 40
        }
      ]
    },
    {
      "cell_type": "code",
      "metadata": {
        "id": "-G8kdgLFTLZG",
        "colab_type": "code",
        "colab": {}
      },
      "source": [
        "x += 3"
      ],
      "execution_count": 0,
      "outputs": []
    },
    {
      "cell_type": "code",
      "metadata": {
        "id": "Yy8PnQEHTLZK",
        "colab_type": "code",
        "colab": {},
        "outputId": "407791fd-b8d0-412e-c3af-d4e63ea82686"
      },
      "source": [
        "x"
      ],
      "execution_count": 0,
      "outputs": [
        {
          "output_type": "execute_result",
          "data": {
            "text/plain": [
              "8"
            ]
          },
          "metadata": {
            "tags": []
          },
          "execution_count": 42
        }
      ]
    },
    {
      "cell_type": "markdown",
      "metadata": {
        "id": "3_E28oKaTLZN",
        "colab_type": "text"
      },
      "source": [
        "### Printing"
      ]
    },
    {
      "cell_type": "code",
      "metadata": {
        "jupyter": {
          "outputs_hidden": true
        },
        "id": "jmV3BUsGTLZO",
        "colab_type": "code",
        "colab": {}
      },
      "source": [
        "x = 'hello'"
      ],
      "execution_count": 0,
      "outputs": []
    },
    {
      "cell_type": "code",
      "metadata": {
        "id": "umRsCzNcTLZQ",
        "colab_type": "code",
        "colab": {},
        "outputId": "0b534a8c-bddb-4f42-e511-565a568ca94f"
      },
      "source": [
        "x"
      ],
      "execution_count": 0,
      "outputs": [
        {
          "output_type": "execute_result",
          "data": {
            "text/plain": [
              "'hello'"
            ]
          },
          "metadata": {
            "tags": []
          },
          "execution_count": 44
        }
      ]
    },
    {
      "cell_type": "code",
      "metadata": {
        "id": "Mp-cq-MbTLZT",
        "colab_type": "code",
        "colab": {},
        "outputId": "7be05e0c-cdae-41e4-c5ea-dc1ad35e2bba"
      },
      "source": [
        "y = \"hello\"\n",
        "y"
      ],
      "execution_count": 0,
      "outputs": [
        {
          "output_type": "execute_result",
          "data": {
            "text/plain": [
              "'hello'"
            ]
          },
          "metadata": {
            "tags": []
          },
          "execution_count": 45
        }
      ]
    },
    {
      "cell_type": "code",
      "metadata": {
        "id": "9LvtM0d_TLZV",
        "colab_type": "code",
        "colab": {},
        "outputId": "0720ca83-a859-470e-fbab-b7e500ebd3f3"
      },
      "source": [
        "print(x)"
      ],
      "execution_count": 0,
      "outputs": [
        {
          "output_type": "stream",
          "text": [
            "hello\n"
          ],
          "name": "stdout"
        }
      ]
    },
    {
      "cell_type": "code",
      "metadata": {
        "id": "dFF8CYkrTLZY",
        "colab_type": "code",
        "colab": {},
        "outputId": "25842ab5-68cc-426c-a513-c63653c2fba7"
      },
      "source": [
        "x == print(x)"
      ],
      "execution_count": 0,
      "outputs": [
        {
          "output_type": "stream",
          "text": [
            "hello\n"
          ],
          "name": "stdout"
        },
        {
          "output_type": "execute_result",
          "data": {
            "text/plain": [
              "False"
            ]
          },
          "metadata": {
            "tags": []
          },
          "execution_count": 47
        }
      ]
    },
    {
      "cell_type": "code",
      "metadata": {
        "id": "DjltJgbKTLZa",
        "colab_type": "code",
        "colab": {},
        "outputId": "a910adbf-6048-44c4-a12c-08233004a575"
      },
      "source": [
        "x == x"
      ],
      "execution_count": 0,
      "outputs": [
        {
          "output_type": "execute_result",
          "data": {
            "text/plain": [
              "True"
            ]
          },
          "metadata": {
            "tags": []
          },
          "execution_count": 48
        }
      ]
    },
    {
      "cell_type": "code",
      "metadata": {
        "id": "yO8czV2uTLZd",
        "colab_type": "code",
        "colab": {},
        "outputId": "b72f3118-a471-44cd-e6e8-c7ec64da0e80"
      },
      "source": [
        "print(y) == print(x)"
      ],
      "execution_count": 0,
      "outputs": [
        {
          "output_type": "stream",
          "text": [
            "hello\n",
            "hello\n"
          ],
          "name": "stdout"
        },
        {
          "output_type": "execute_result",
          "data": {
            "text/plain": [
              "True"
            ]
          },
          "metadata": {
            "tags": []
          },
          "execution_count": 49
        }
      ]
    },
    {
      "cell_type": "code",
      "metadata": {
        "jupyter": {
          "outputs_hidden": true
        },
        "id": "vm3fQAIbTLZf",
        "colab_type": "code",
        "colab": {}
      },
      "source": [
        "num = 10\n",
        "name = 'Bob'"
      ],
      "execution_count": 0,
      "outputs": []
    },
    {
      "cell_type": "code",
      "metadata": {
        "scrolled": true,
        "id": "l2qbTcmLTLZj",
        "colab_type": "code",
        "colab": {},
        "outputId": "6aee66fb-98a3-4ac5-9e4a-0a816cbc90a0"
      },
      "source": [
        "print('My number is: {}, and my name is: {}'.format(num,name))"
      ],
      "execution_count": 0,
      "outputs": [
        {
          "output_type": "stream",
          "text": [
            "My number is: 10, and my name is: Bob\n"
          ],
          "name": "stdout"
        }
      ]
    },
    {
      "cell_type": "code",
      "metadata": {
        "id": "uARuiofNTLZo",
        "colab_type": "code",
        "colab": {},
        "outputId": "fd5580d7-aa52-4d27-aa90-22e7ef3e24c4"
      },
      "source": [
        "print('My number is: {one}, and my name is: {two}'.format(two=name, one=num))"
      ],
      "execution_count": 0,
      "outputs": [
        {
          "output_type": "stream",
          "text": [
            "My number is: 10, and my name is: Bob\n"
          ],
          "name": "stdout"
        }
      ]
    },
    {
      "cell_type": "markdown",
      "metadata": {
        "id": "tFbx2snITLZt",
        "colab_type": "text"
      },
      "source": [
        "## Collection Data Types \n",
        "\n",
        "### Lists \n",
        "\n",
        "- Collection of elements which is **Ordered** and **Mutable**. \n",
        "- Allows **duplicate** elements.\n",
        "- Elements can be of **ANY** Data type\n"
      ]
    },
    {
      "cell_type": "code",
      "metadata": {
        "id": "DXf8RmINTLZt",
        "colab_type": "code",
        "colab": {},
        "outputId": "af3576d8-fd4a-4379-f04a-c4cb90e8b60a"
      },
      "source": [
        "[1,2,3]"
      ],
      "execution_count": 0,
      "outputs": [
        {
          "output_type": "execute_result",
          "data": {
            "text/plain": [
              "[1, 2, 3]"
            ]
          },
          "metadata": {
            "tags": []
          },
          "execution_count": 53
        }
      ]
    },
    {
      "cell_type": "code",
      "metadata": {
        "id": "qOTmW8mFTLZ2",
        "colab_type": "code",
        "colab": {},
        "outputId": "95ea7b1a-8c6e-473e-db9e-b21510fc74ff"
      },
      "source": [
        "['a', 'b' ,'c']"
      ],
      "execution_count": 0,
      "outputs": [
        {
          "output_type": "execute_result",
          "data": {
            "text/plain": [
              "['a', 'b', 'c']"
            ]
          },
          "metadata": {
            "tags": []
          },
          "execution_count": 54
        }
      ]
    },
    {
      "cell_type": "code",
      "metadata": {
        "id": "tTsUZvk7TLZ7",
        "colab_type": "code",
        "colab": {},
        "outputId": "bdba845c-8f4c-46b0-8f81-6af8bb71c6ac"
      },
      "source": [
        "['hi',1,[1,2]]"
      ],
      "execution_count": 0,
      "outputs": [
        {
          "output_type": "execute_result",
          "data": {
            "text/plain": [
              "['hi', 1, [1, 2]]"
            ]
          },
          "metadata": {
            "tags": []
          },
          "execution_count": 55
        }
      ]
    },
    {
      "cell_type": "code",
      "metadata": {
        "jupyter": {
          "outputs_hidden": true
        },
        "id": "rgkPpOneTLZ-",
        "colab_type": "code",
        "colab": {}
      },
      "source": [
        "my_list = ['a','b','c']"
      ],
      "execution_count": 0,
      "outputs": []
    },
    {
      "cell_type": "code",
      "metadata": {
        "jupyter": {
          "outputs_hidden": true
        },
        "id": "OcJ0G4ZRTLaB",
        "colab_type": "code",
        "colab": {}
      },
      "source": [
        "my_list.append('d')"
      ],
      "execution_count": 0,
      "outputs": []
    },
    {
      "cell_type": "code",
      "metadata": {
        "id": "POXwI2j2TLaE",
        "colab_type": "code",
        "colab": {},
        "outputId": "a7de052a-7d86-4b6e-bb53-f73d9c1d2e88"
      },
      "source": [
        "my_list"
      ],
      "execution_count": 0,
      "outputs": [
        {
          "output_type": "execute_result",
          "data": {
            "text/plain": [
              "['a', 'b', 'c', 'd']"
            ]
          },
          "metadata": {
            "tags": []
          },
          "execution_count": 58
        }
      ]
    },
    {
      "cell_type": "code",
      "metadata": {
        "id": "RYTJT5H9TLaI",
        "colab_type": "code",
        "colab": {},
        "outputId": "19b303d4-f35a-46ec-998f-d2bcc8a38ee0"
      },
      "source": [
        "my_list[0]"
      ],
      "execution_count": 0,
      "outputs": [
        {
          "output_type": "execute_result",
          "data": {
            "text/plain": [
              "'a'"
            ]
          },
          "metadata": {
            "tags": []
          },
          "execution_count": 59
        }
      ]
    },
    {
      "cell_type": "code",
      "metadata": {
        "id": "FPuhNyVfTLaL",
        "colab_type": "code",
        "colab": {},
        "outputId": "b2c548a5-b0c8-41b8-c52f-b74c2a337733"
      },
      "source": [
        "my_list[1]"
      ],
      "execution_count": 0,
      "outputs": [
        {
          "output_type": "execute_result",
          "data": {
            "text/plain": [
              "'b'"
            ]
          },
          "metadata": {
            "tags": []
          },
          "execution_count": 60
        }
      ]
    },
    {
      "cell_type": "code",
      "metadata": {
        "id": "yjGZHqPsTLaO",
        "colab_type": "code",
        "colab": {},
        "outputId": "7d51189e-9438-41f8-839b-af75120651db"
      },
      "source": [
        "my_list[1:]"
      ],
      "execution_count": 0,
      "outputs": [
        {
          "output_type": "execute_result",
          "data": {
            "text/plain": [
              "['b', 'c', 'd']"
            ]
          },
          "metadata": {
            "tags": []
          },
          "execution_count": 61
        }
      ]
    },
    {
      "cell_type": "code",
      "metadata": {
        "id": "y8q58hW9TLaR",
        "colab_type": "code",
        "colab": {},
        "outputId": "9042df47-4a0b-4a40-9012-5994bec98726"
      },
      "source": [
        "my_list[:1]"
      ],
      "execution_count": 0,
      "outputs": [
        {
          "output_type": "execute_result",
          "data": {
            "text/plain": [
              "['a']"
            ]
          },
          "metadata": {
            "tags": []
          },
          "execution_count": 62
        }
      ]
    },
    {
      "cell_type": "code",
      "metadata": {
        "jupyter": {
          "outputs_hidden": true
        },
        "id": "QyfmkK76TLaT",
        "colab_type": "code",
        "colab": {}
      },
      "source": [
        "my_list[0] = 'NEW'"
      ],
      "execution_count": 0,
      "outputs": []
    },
    {
      "cell_type": "code",
      "metadata": {
        "id": "TKuzyd5OTLaZ",
        "colab_type": "code",
        "colab": {},
        "outputId": "2c600979-3c0f-4d2c-d154-2db65754060c"
      },
      "source": [
        "my_list"
      ],
      "execution_count": 0,
      "outputs": [
        {
          "output_type": "execute_result",
          "data": {
            "text/plain": [
              "['NEW', 'b', 'c', 'd']"
            ]
          },
          "metadata": {
            "tags": []
          },
          "execution_count": 64
        }
      ]
    },
    {
      "cell_type": "code",
      "metadata": {
        "jupyter": {
          "outputs_hidden": true
        },
        "id": "xRUfG42aTLac",
        "colab_type": "code",
        "colab": {}
      },
      "source": [
        "nest = [1,2,3,[4,5,['target']]]"
      ],
      "execution_count": 0,
      "outputs": []
    },
    {
      "cell_type": "code",
      "metadata": {
        "id": "IFsxohCXTLae",
        "colab_type": "code",
        "colab": {},
        "outputId": "ef06744d-e695-4df5-cb2c-d7687769185c"
      },
      "source": [
        "nest[3]"
      ],
      "execution_count": 0,
      "outputs": [
        {
          "output_type": "execute_result",
          "data": {
            "text/plain": [
              "[4, 5, ['target']]"
            ]
          },
          "metadata": {
            "tags": []
          },
          "execution_count": 66
        }
      ]
    },
    {
      "cell_type": "code",
      "metadata": {
        "id": "kZniEhSvTLag",
        "colab_type": "code",
        "colab": {},
        "outputId": "cd94cd9c-7521-4025-e499-0007d969594f"
      },
      "source": [
        "nest[3][2]"
      ],
      "execution_count": 0,
      "outputs": [
        {
          "output_type": "execute_result",
          "data": {
            "text/plain": [
              "['target']"
            ]
          },
          "metadata": {
            "tags": []
          },
          "execution_count": 67
        }
      ]
    },
    {
      "cell_type": "code",
      "metadata": {
        "id": "Kjwa13x4TLai",
        "colab_type": "code",
        "colab": {},
        "outputId": "860c2b08-d8fb-4ca1-ea12-234e71e04ea3"
      },
      "source": [
        "nest[3][2][0]"
      ],
      "execution_count": 0,
      "outputs": [
        {
          "output_type": "execute_result",
          "data": {
            "text/plain": [
              "'target'"
            ]
          },
          "metadata": {
            "tags": []
          },
          "execution_count": 68
        }
      ]
    },
    {
      "cell_type": "code",
      "metadata": {
        "id": "gaClbKxCTLam",
        "colab_type": "code",
        "colab": {},
        "outputId": "1b427880-423e-40a9-d3c0-dcee0d8f4ff6"
      },
      "source": [
        "print(nest[3][2][0])"
      ],
      "execution_count": 0,
      "outputs": [
        {
          "output_type": "stream",
          "text": [
            "target\n"
          ],
          "name": "stdout"
        }
      ]
    },
    {
      "cell_type": "markdown",
      "metadata": {
        "id": "ipYoL89GTLap",
        "colab_type": "text"
      },
      "source": [
        "#### Strings\n",
        "\n",
        "- Collection of characters which is **Ordered** and **Immutable**"
      ]
    },
    {
      "cell_type": "code",
      "metadata": {
        "id": "BGO9MG0FTLap",
        "colab_type": "code",
        "colab": {}
      },
      "source": [
        "s = \"python\""
      ],
      "execution_count": 0,
      "outputs": []
    },
    {
      "cell_type": "code",
      "metadata": {
        "id": "sXAP3K1DTLar",
        "colab_type": "code",
        "colab": {},
        "outputId": "90e09736-3c3f-4cf9-e4b9-b147fe4aecb1"
      },
      "source": [
        "s[0]"
      ],
      "execution_count": 0,
      "outputs": [
        {
          "output_type": "execute_result",
          "data": {
            "text/plain": [
              "'p'"
            ]
          },
          "metadata": {
            "tags": []
          },
          "execution_count": 71
        }
      ]
    },
    {
      "cell_type": "code",
      "metadata": {
        "id": "67K7H64yTLau",
        "colab_type": "code",
        "colab": {},
        "outputId": "d20a8f5d-f454-4852-e803-97678ddfa3a4"
      },
      "source": [
        "s[-1]"
      ],
      "execution_count": 0,
      "outputs": [
        {
          "output_type": "execute_result",
          "data": {
            "text/plain": [
              "'n'"
            ]
          },
          "metadata": {
            "tags": []
          },
          "execution_count": 72
        }
      ]
    },
    {
      "cell_type": "code",
      "metadata": {
        "id": "NOM1v-buTLaw",
        "colab_type": "code",
        "colab": {}
      },
      "source": [
        "s = 'abcdefghijk'"
      ],
      "execution_count": 0,
      "outputs": []
    },
    {
      "cell_type": "code",
      "metadata": {
        "id": "EF6Ftg0tTLax",
        "colab_type": "code",
        "colab": {},
        "outputId": "b8e5bb0b-9dbc-46f6-d7e5-5433914ca84a"
      },
      "source": [
        "s[0:]"
      ],
      "execution_count": 0,
      "outputs": [
        {
          "output_type": "execute_result",
          "data": {
            "text/plain": [
              "'abcdefghijk'"
            ]
          },
          "metadata": {
            "tags": []
          },
          "execution_count": 74
        }
      ]
    },
    {
      "cell_type": "code",
      "metadata": {
        "id": "0LPfpI5bTLaz",
        "colab_type": "code",
        "colab": {},
        "outputId": "2f8bed0e-404e-4fe3-ab50-90d9e203b544"
      },
      "source": [
        "s[:3]"
      ],
      "execution_count": 0,
      "outputs": [
        {
          "output_type": "execute_result",
          "data": {
            "text/plain": [
              "'abc'"
            ]
          },
          "metadata": {
            "tags": []
          },
          "execution_count": 75
        }
      ]
    },
    {
      "cell_type": "code",
      "metadata": {
        "id": "4gRR3hniTLa1",
        "colab_type": "code",
        "colab": {},
        "outputId": "3197c487-de08-40e6-8b17-e9169fab31eb"
      },
      "source": [
        "s[0:3]"
      ],
      "execution_count": 0,
      "outputs": [
        {
          "output_type": "execute_result",
          "data": {
            "text/plain": [
              "'abc'"
            ]
          },
          "metadata": {
            "tags": []
          },
          "execution_count": 76
        }
      ]
    },
    {
      "cell_type": "code",
      "metadata": {
        "id": "__d-_uFxTLa4",
        "colab_type": "code",
        "colab": {},
        "outputId": "176e6c0f-7d0b-464d-e5ea-17018a659d2d"
      },
      "source": [
        "s[3:6]"
      ],
      "execution_count": 0,
      "outputs": [
        {
          "output_type": "execute_result",
          "data": {
            "text/plain": [
              "'def'"
            ]
          },
          "metadata": {
            "tags": []
          },
          "execution_count": 77
        }
      ]
    },
    {
      "cell_type": "code",
      "metadata": {
        "id": "I9oiF4HXTLa7",
        "colab_type": "code",
        "colab": {},
        "outputId": "7d71c342-8ad9-4dcb-fbd5-f7a629eaaff2"
      },
      "source": [
        "s[:]"
      ],
      "execution_count": 0,
      "outputs": [
        {
          "output_type": "execute_result",
          "data": {
            "text/plain": [
              "'abcdefghijk'"
            ]
          },
          "metadata": {
            "tags": []
          },
          "execution_count": 78
        }
      ]
    },
    {
      "cell_type": "code",
      "metadata": {
        "id": "0Qzrp9TiTLa-",
        "colab_type": "code",
        "colab": {}
      },
      "source": [
        "# s[0] = z"
      ],
      "execution_count": 0,
      "outputs": []
    },
    {
      "cell_type": "markdown",
      "metadata": {
        "id": "kHesXUhNTLbE",
        "colab_type": "text"
      },
      "source": [
        "### Sets \n",
        "\n",
        "- Collection which is **Unordered** and **Unindexed**\n",
        "- Collection of **UNIQUE** elements\n",
        "- Once a set is created, you cannot change its items, but you can add new items."
      ]
    },
    {
      "cell_type": "code",
      "metadata": {
        "id": "tdQcEnmKTLbE",
        "colab_type": "code",
        "colab": {},
        "outputId": "8dcfdc94-1abd-4b95-ed44-e3695ec47e6f"
      },
      "source": [
        "{1,2,3}"
      ],
      "execution_count": 0,
      "outputs": [
        {
          "output_type": "execute_result",
          "data": {
            "text/plain": [
              "{1, 2, 3}"
            ]
          },
          "metadata": {
            "tags": []
          },
          "execution_count": 80
        }
      ]
    },
    {
      "cell_type": "code",
      "metadata": {
        "id": "m6GYXrJATLbK",
        "colab_type": "code",
        "colab": {},
        "outputId": "ba059af5-7bc8-4e6d-fed8-4a5cc1e65905"
      },
      "source": [
        "{1,2,3,1,2,1,2,3,3,3,3,2,2,2,1,1,2}"
      ],
      "execution_count": 0,
      "outputs": [
        {
          "output_type": "execute_result",
          "data": {
            "text/plain": [
              "{1, 2, 3}"
            ]
          },
          "metadata": {
            "tags": []
          },
          "execution_count": 81
        }
      ]
    },
    {
      "cell_type": "code",
      "metadata": {
        "id": "cVaBKc_LTLbN",
        "colab_type": "code",
        "colab": {},
        "outputId": "9e186686-53ea-4f43-f786-bc80de7c2088"
      },
      "source": [
        "set([1,2,3,1,2,3])"
      ],
      "execution_count": 0,
      "outputs": [
        {
          "output_type": "execute_result",
          "data": {
            "text/plain": [
              "{1, 2, 3}"
            ]
          },
          "metadata": {
            "tags": []
          },
          "execution_count": 82
        }
      ]
    },
    {
      "cell_type": "code",
      "metadata": {
        "id": "mGc69WHETLbR",
        "colab_type": "code",
        "colab": {}
      },
      "source": [
        "s = {1,2,3}"
      ],
      "execution_count": 0,
      "outputs": []
    },
    {
      "cell_type": "code",
      "metadata": {
        "id": "n_pEyNn0TLbU",
        "colab_type": "code",
        "colab": {},
        "outputId": "9d7c1982-aaa6-473a-d7a4-84d28d6227b9"
      },
      "source": [
        "s"
      ],
      "execution_count": 0,
      "outputs": [
        {
          "output_type": "execute_result",
          "data": {
            "text/plain": [
              "{1, 2, 3}"
            ]
          },
          "metadata": {
            "tags": []
          },
          "execution_count": 84
        }
      ]
    },
    {
      "cell_type": "code",
      "metadata": {
        "id": "6grL84dHTLbW",
        "colab_type": "code",
        "colab": {}
      },
      "source": [
        "s.add(6)"
      ],
      "execution_count": 0,
      "outputs": []
    },
    {
      "cell_type": "code",
      "metadata": {
        "id": "vXRlTih_TLbY",
        "colab_type": "code",
        "colab": {},
        "outputId": "a1c7e56d-7e62-4aab-9df8-0ad01ae159e8"
      },
      "source": [
        "s"
      ],
      "execution_count": 0,
      "outputs": [
        {
          "output_type": "execute_result",
          "data": {
            "text/plain": [
              "{1, 2, 3, 6}"
            ]
          },
          "metadata": {
            "tags": []
          },
          "execution_count": 86
        }
      ]
    },
    {
      "cell_type": "code",
      "metadata": {
        "id": "nMufBrMBTLba",
        "colab_type": "code",
        "colab": {}
      },
      "source": [
        "s.add(6)"
      ],
      "execution_count": 0,
      "outputs": []
    },
    {
      "cell_type": "code",
      "metadata": {
        "id": "hDbQGb0cTLbc",
        "colab_type": "code",
        "colab": {},
        "outputId": "71e87998-6068-4902-b011-2b006d80cde6"
      },
      "source": [
        "s"
      ],
      "execution_count": 0,
      "outputs": [
        {
          "output_type": "execute_result",
          "data": {
            "text/plain": [
              "{1, 2, 3, 6}"
            ]
          },
          "metadata": {
            "tags": []
          },
          "execution_count": 88
        }
      ]
    },
    {
      "cell_type": "markdown",
      "metadata": {
        "id": "FQG_nOLYTLbg",
        "colab_type": "text"
      },
      "source": [
        "### Tuples \n",
        "\n",
        "- A tuple is similar to List which is **Ordered Collection** of elements.\n",
        "- The key difference between List and Tuple is List is **Mutable** where as Tuple is **Immutable**"
      ]
    },
    {
      "cell_type": "code",
      "metadata": {
        "jupyter": {
          "outputs_hidden": true
        },
        "id": "YF0buF7aTLbg",
        "colab_type": "code",
        "colab": {}
      },
      "source": [
        "t = (1,2,3)"
      ],
      "execution_count": 0,
      "outputs": []
    },
    {
      "cell_type": "code",
      "metadata": {
        "id": "-N0iElkiTLbi",
        "colab_type": "code",
        "colab": {},
        "outputId": "7f33d68b-0802-436b-9129-b7230d79922a"
      },
      "source": [
        "t[0]"
      ],
      "execution_count": 0,
      "outputs": [
        {
          "output_type": "execute_result",
          "data": {
            "text/plain": [
              "1"
            ]
          },
          "metadata": {
            "tags": []
          },
          "execution_count": 90
        }
      ]
    },
    {
      "cell_type": "code",
      "metadata": {
        "id": "CYIiyW5LTLbk",
        "colab_type": "code",
        "colab": {}
      },
      "source": [
        "# t[0] = 'NEW'"
      ],
      "execution_count": 0,
      "outputs": []
    },
    {
      "cell_type": "markdown",
      "metadata": {
        "id": "Tsohn9AuTLbm",
        "colab_type": "text"
      },
      "source": [
        "### Dictionaries\n",
        "\n",
        "- Key-Value Pairs Mappings. \n",
        "- Unordered, Mutable\n",
        "- **Keys** are **ALWAYS String**\n",
        "- **Values** can be **ANY data type elements**"
      ]
    },
    {
      "cell_type": "code",
      "metadata": {
        "jupyter": {
          "outputs_hidden": true
        },
        "id": "S7QwB9o9TLbm",
        "colab_type": "code",
        "colab": {}
      },
      "source": [
        "d = {'key1':'item1','key2':'item2'}"
      ],
      "execution_count": 0,
      "outputs": []
    },
    {
      "cell_type": "code",
      "metadata": {
        "id": "7Q1BYY3rTLbo",
        "colab_type": "code",
        "colab": {},
        "outputId": "12f86018-35aa-41ec-8597-873870603b8e"
      },
      "source": [
        "d"
      ],
      "execution_count": 0,
      "outputs": [
        {
          "output_type": "execute_result",
          "data": {
            "text/plain": [
              "{'key1': 'item1', 'key2': 'item2'}"
            ]
          },
          "metadata": {
            "tags": []
          },
          "execution_count": 93
        }
      ]
    },
    {
      "cell_type": "code",
      "metadata": {
        "id": "rMjOAL-oTLbp",
        "colab_type": "code",
        "colab": {},
        "outputId": "e42d556c-5237-46d7-e107-60cf30f746f7"
      },
      "source": [
        "d['key1']"
      ],
      "execution_count": 0,
      "outputs": [
        {
          "output_type": "execute_result",
          "data": {
            "text/plain": [
              "'item1'"
            ]
          },
          "metadata": {
            "tags": []
          },
          "execution_count": 94
        }
      ]
    },
    {
      "cell_type": "code",
      "metadata": {
        "id": "lsTtkvJcTLbw",
        "colab_type": "code",
        "colab": {}
      },
      "source": [
        "d['key1'] = 'New Item'"
      ],
      "execution_count": 0,
      "outputs": []
    },
    {
      "cell_type": "code",
      "metadata": {
        "id": "hJagm1GWTLbz",
        "colab_type": "code",
        "colab": {},
        "outputId": "2ba8bead-98a8-45ca-bf34-ed828cbeb051"
      },
      "source": [
        "d['key1']"
      ],
      "execution_count": 0,
      "outputs": [
        {
          "output_type": "execute_result",
          "data": {
            "text/plain": [
              "'New Item'"
            ]
          },
          "metadata": {
            "tags": []
          },
          "execution_count": 96
        }
      ]
    },
    {
      "cell_type": "code",
      "metadata": {
        "id": "Owkklqt3TLb0",
        "colab_type": "code",
        "colab": {}
      },
      "source": [
        "d = {'key1':'item1','key2': 123}"
      ],
      "execution_count": 0,
      "outputs": []
    },
    {
      "cell_type": "code",
      "metadata": {
        "id": "trU8t3l0TLb2",
        "colab_type": "code",
        "colab": {},
        "outputId": "41339a86-f69f-458f-a930-eec243136b69"
      },
      "source": [
        "d['key2']"
      ],
      "execution_count": 0,
      "outputs": [
        {
          "output_type": "execute_result",
          "data": {
            "text/plain": [
              "123"
            ]
          },
          "metadata": {
            "tags": []
          },
          "execution_count": 98
        }
      ]
    },
    {
      "cell_type": "code",
      "metadata": {
        "id": "AsLaxGAfTLb3",
        "colab_type": "code",
        "colab": {}
      },
      "source": [
        "d = {'k1': [1,2,3]}"
      ],
      "execution_count": 0,
      "outputs": []
    },
    {
      "cell_type": "code",
      "metadata": {
        "id": "nNuznlc5TLb7",
        "colab_type": "code",
        "colab": {},
        "outputId": "aa76793b-fae5-4dd2-fd77-a76cd54d01e5"
      },
      "source": [
        "d['k1']"
      ],
      "execution_count": 0,
      "outputs": [
        {
          "output_type": "execute_result",
          "data": {
            "text/plain": [
              "[1, 2, 3]"
            ]
          },
          "metadata": {
            "tags": []
          },
          "execution_count": 100
        }
      ]
    },
    {
      "cell_type": "code",
      "metadata": {
        "id": "-mPg4be9TLb8",
        "colab_type": "code",
        "colab": {}
      },
      "source": [
        "my_list = d['k1']"
      ],
      "execution_count": 0,
      "outputs": []
    },
    {
      "cell_type": "code",
      "metadata": {
        "id": "PJDhoS1GTLb_",
        "colab_type": "code",
        "colab": {},
        "outputId": "b1a2a665-091a-44b6-baf4-40ee70683082"
      },
      "source": [
        "my_list"
      ],
      "execution_count": 0,
      "outputs": [
        {
          "output_type": "execute_result",
          "data": {
            "text/plain": [
              "[1, 2, 3]"
            ]
          },
          "metadata": {
            "tags": []
          },
          "execution_count": 102
        }
      ]
    },
    {
      "cell_type": "code",
      "metadata": {
        "id": "PmFchC-QTLcB",
        "colab_type": "code",
        "colab": {},
        "outputId": "bfbafb56-0e4c-46dc-d738-f5a12994ac50"
      },
      "source": [
        "my_list[0]"
      ],
      "execution_count": 0,
      "outputs": [
        {
          "output_type": "execute_result",
          "data": {
            "text/plain": [
              "1"
            ]
          },
          "metadata": {
            "tags": []
          },
          "execution_count": 103
        }
      ]
    },
    {
      "cell_type": "code",
      "metadata": {
        "id": "TgH_7KLLTLcD",
        "colab_type": "code",
        "colab": {},
        "outputId": "8b2aa84a-2623-48a2-ae03-7e3e29177a98"
      },
      "source": [
        "d['k1'][0]"
      ],
      "execution_count": 0,
      "outputs": [
        {
          "output_type": "execute_result",
          "data": {
            "text/plain": [
              "1"
            ]
          },
          "metadata": {
            "tags": []
          },
          "execution_count": 104
        }
      ]
    },
    {
      "cell_type": "code",
      "metadata": {
        "id": "f3PohosATLcE",
        "colab_type": "code",
        "colab": {}
      },
      "source": [
        "d = {'k1': {'inner_key': [1,2,3]}}"
      ],
      "execution_count": 0,
      "outputs": []
    },
    {
      "cell_type": "code",
      "metadata": {
        "id": "32sTXPjeTLcG",
        "colab_type": "code",
        "colab": {},
        "outputId": "af6543df-4fae-4875-9425-08994ec1acf5"
      },
      "source": [
        "d['k1']"
      ],
      "execution_count": 0,
      "outputs": [
        {
          "output_type": "execute_result",
          "data": {
            "text/plain": [
              "{'inner_key': [1, 2, 3]}"
            ]
          },
          "metadata": {
            "tags": []
          },
          "execution_count": 106
        }
      ]
    },
    {
      "cell_type": "code",
      "metadata": {
        "id": "D9YAVEsJTLcH",
        "colab_type": "code",
        "colab": {},
        "outputId": "a79d13e1-e224-46ee-d4f0-317d0a7522c0"
      },
      "source": [
        "d['k1']['inner_key']"
      ],
      "execution_count": 0,
      "outputs": [
        {
          "output_type": "execute_result",
          "data": {
            "text/plain": [
              "[1, 2, 3]"
            ]
          },
          "metadata": {
            "tags": []
          },
          "execution_count": 107
        }
      ]
    },
    {
      "cell_type": "code",
      "metadata": {
        "id": "XJE-OcotTLcL",
        "colab_type": "code",
        "colab": {},
        "outputId": "165f049c-cd08-484e-afe7-3143bc214c51"
      },
      "source": [
        "d['k1']['inner_key'][1]"
      ],
      "execution_count": 0,
      "outputs": [
        {
          "output_type": "execute_result",
          "data": {
            "text/plain": [
              "2"
            ]
          },
          "metadata": {
            "tags": []
          },
          "execution_count": 108
        }
      ]
    },
    {
      "cell_type": "markdown",
      "metadata": {
        "id": "lkiysSlaTLcM",
        "colab_type": "text"
      },
      "source": [
        "## Operators\n",
        "\n",
        "### Comparison Operators\n",
        "\n",
        "Reference: https://www.w3schools.com/python/python_operators.asp"
      ]
    },
    {
      "cell_type": "code",
      "metadata": {
        "id": "8ts1tI7KTLcN",
        "colab_type": "code",
        "colab": {},
        "outputId": "de451e7a-5ac7-4b37-e163-9fb8cf295a94"
      },
      "source": [
        "1 > 2"
      ],
      "execution_count": 0,
      "outputs": [
        {
          "output_type": "execute_result",
          "data": {
            "text/plain": [
              "False"
            ]
          },
          "metadata": {
            "tags": []
          },
          "execution_count": 109
        }
      ]
    },
    {
      "cell_type": "code",
      "metadata": {
        "id": "AK51TvsjTLcQ",
        "colab_type": "code",
        "colab": {},
        "outputId": "0ef540f0-42e7-4ab8-a888-c89b23f8d7b4"
      },
      "source": [
        "1 < 2"
      ],
      "execution_count": 0,
      "outputs": [
        {
          "output_type": "execute_result",
          "data": {
            "text/plain": [
              "True"
            ]
          },
          "metadata": {
            "tags": []
          },
          "execution_count": 110
        }
      ]
    },
    {
      "cell_type": "code",
      "metadata": {
        "id": "UVMNBuzBTLcV",
        "colab_type": "code",
        "colab": {},
        "outputId": "2a0a06ab-8980-4b52-c1fc-b81de9091f05"
      },
      "source": [
        "1 >= 1"
      ],
      "execution_count": 0,
      "outputs": [
        {
          "output_type": "execute_result",
          "data": {
            "text/plain": [
              "True"
            ]
          },
          "metadata": {
            "tags": []
          },
          "execution_count": 111
        }
      ]
    },
    {
      "cell_type": "code",
      "metadata": {
        "id": "dcYATUxlTLcY",
        "colab_type": "code",
        "colab": {},
        "outputId": "6e2d7816-ff82-462d-b98c-5c678d44129c"
      },
      "source": [
        "1 <= 4"
      ],
      "execution_count": 0,
      "outputs": [
        {
          "output_type": "execute_result",
          "data": {
            "text/plain": [
              "True"
            ]
          },
          "metadata": {
            "tags": []
          },
          "execution_count": 112
        }
      ]
    },
    {
      "cell_type": "code",
      "metadata": {
        "id": "AdF5XGevTLcc",
        "colab_type": "code",
        "colab": {},
        "outputId": "c9c70cbc-ccf8-404c-b74f-18813b72f372"
      },
      "source": [
        "1 == 1"
      ],
      "execution_count": 0,
      "outputs": [
        {
          "output_type": "execute_result",
          "data": {
            "text/plain": [
              "True"
            ]
          },
          "metadata": {
            "tags": []
          },
          "execution_count": 113
        }
      ]
    },
    {
      "cell_type": "code",
      "metadata": {
        "id": "YmNzo-e5TLcf",
        "colab_type": "code",
        "colab": {},
        "outputId": "0faee5b9-2d8c-4a96-842a-34da62103e79"
      },
      "source": [
        "'hi' == 'bye'"
      ],
      "execution_count": 0,
      "outputs": [
        {
          "output_type": "execute_result",
          "data": {
            "text/plain": [
              "False"
            ]
          },
          "metadata": {
            "tags": []
          },
          "execution_count": 114
        }
      ]
    },
    {
      "cell_type": "markdown",
      "metadata": {
        "id": "UPUKH1iCTLci",
        "colab_type": "text"
      },
      "source": [
        "### Logical Operators"
      ]
    },
    {
      "cell_type": "code",
      "metadata": {
        "id": "E2DbHJseTLci",
        "colab_type": "code",
        "colab": {},
        "outputId": "1992a7b5-e99a-4855-9193-cb4b2d3f458c"
      },
      "source": [
        "1 > 2 and 2 < 3"
      ],
      "execution_count": 0,
      "outputs": [
        {
          "output_type": "execute_result",
          "data": {
            "text/plain": [
              "False"
            ]
          },
          "metadata": {
            "tags": []
          },
          "execution_count": 115
        }
      ]
    },
    {
      "cell_type": "code",
      "metadata": {
        "id": "sVuuLmYCTLcj",
        "colab_type": "code",
        "colab": {},
        "outputId": "f73b6c0d-410b-48af-ef69-c30f502d0c55"
      },
      "source": [
        "(1 > 2) and (2 < 3)"
      ],
      "execution_count": 0,
      "outputs": [
        {
          "output_type": "execute_result",
          "data": {
            "text/plain": [
              "False"
            ]
          },
          "metadata": {
            "tags": []
          },
          "execution_count": 116
        }
      ]
    },
    {
      "cell_type": "code",
      "metadata": {
        "id": "z5LPcZnYTLcl",
        "colab_type": "code",
        "colab": {},
        "outputId": "cae485c5-1c48-4f4a-83ee-387b2f92b76f"
      },
      "source": [
        "(1 > 2) or (2 < 3)"
      ],
      "execution_count": 0,
      "outputs": [
        {
          "output_type": "execute_result",
          "data": {
            "text/plain": [
              "True"
            ]
          },
          "metadata": {
            "tags": []
          },
          "execution_count": 117
        }
      ]
    },
    {
      "cell_type": "code",
      "metadata": {
        "id": "ZAYLTGLxTLco",
        "colab_type": "code",
        "colab": {},
        "outputId": "09f55734-fd7e-4d87-faa5-63a7b04b350b"
      },
      "source": [
        "(1 == 2) or (2 == 3) or (4 == 4)"
      ],
      "execution_count": 0,
      "outputs": [
        {
          "output_type": "execute_result",
          "data": {
            "text/plain": [
              "True"
            ]
          },
          "metadata": {
            "tags": []
          },
          "execution_count": 118
        }
      ]
    },
    {
      "cell_type": "code",
      "metadata": {
        "id": "VhSYieQUTLcp",
        "colab_type": "code",
        "colab": {},
        "outputId": "03938161-84d4-4d22-f3bd-2352259d80b6"
      },
      "source": [
        "True and True"
      ],
      "execution_count": 0,
      "outputs": [
        {
          "output_type": "execute_result",
          "data": {
            "text/plain": [
              "True"
            ]
          },
          "metadata": {
            "tags": []
          },
          "execution_count": 119
        }
      ]
    },
    {
      "cell_type": "code",
      "metadata": {
        "id": "SYWucKNMTLcq",
        "colab_type": "code",
        "colab": {},
        "outputId": "28cc8c42-82f8-4dad-924e-72309e32f0de"
      },
      "source": [
        "True and False"
      ],
      "execution_count": 0,
      "outputs": [
        {
          "output_type": "execute_result",
          "data": {
            "text/plain": [
              "False"
            ]
          },
          "metadata": {
            "tags": []
          },
          "execution_count": 120
        }
      ]
    },
    {
      "cell_type": "markdown",
      "metadata": {
        "id": "XSktxxw5TLcr",
        "colab_type": "text"
      },
      "source": [
        "## Pseudocode\n",
        "\n",
        "- It is a methodology that allows the programmer to represent the implementation of an algorithm without worrying about programming syntax.\n",
        "- Pseudcode is expressed in a formally-styled natural language rather than in a programming language.\n",
        "- It allows designers or lead programmers to express the design in great detail\n",
        "- It provides programmers a detailed template for the next step of writing code in a specific programming language\n",
        "\n",
        "Ref: https://www.unf.edu/~broggio/cop2221/2221pseu.htm"
      ]
    },
    {
      "cell_type": "markdown",
      "metadata": {
        "id": "e5ikBIl3TLcs",
        "colab_type": "text"
      },
      "source": [
        "Examples:\n",
        "\n",
        "Goal: This program will check the student's grade and print \"passed\" or \"failed\"\n",
        "\n",
        "If student's grade is greater than or equal to 60\n",
        "\n",
        "    Print \"passed\"\n",
        "else\n",
        "\n",
        "    Print \"failed\""
      ]
    },
    {
      "cell_type": "markdown",
      "metadata": {
        "id": "O21nbKOHTLcs",
        "colab_type": "text"
      },
      "source": [
        "## Conditional Statements - if, elif, else\n",
        "\n",
        "- Used to perform decision-making. It allows for conditional execution of a statement or group of statements based on the value of a logical condition.\n",
        "- Python supports the usual Logical Conditions with Comparison Operators which yields Bool **True** or **False**"
      ]
    },
    {
      "cell_type": "markdown",
      "metadata": {
        "id": "txnHNGIUTLcs",
        "colab_type": "text"
      },
      "source": [
        "Pseudocode:\n",
        "\n",
        "If 1 is less than 2\n",
        "\n",
        "    Print 'Yep'\n",
        "    \n",
        "End If    "
      ]
    },
    {
      "cell_type": "code",
      "metadata": {
        "id": "U5BV9xfYTLcs",
        "colab_type": "code",
        "colab": {},
        "outputId": "ac47dfaa-dae8-48ae-cb9f-5755c1dfc020"
      },
      "source": [
        "if 1 < 2:\n",
        "    print('Yep!')"
      ],
      "execution_count": 0,
      "outputs": [
        {
          "output_type": "stream",
          "text": [
            "Yep!\n"
          ],
          "name": "stdout"
        }
      ]
    },
    {
      "cell_type": "code",
      "metadata": {
        "id": "ag-kv43pTLcu",
        "colab_type": "code",
        "colab": {},
        "outputId": "5fc389b4-1f85-4e51-c8c5-41c804e62cd4"
      },
      "source": [
        "if 1 < 2:\n",
        "    x = 1 + 2;\n",
        "    print(x)"
      ],
      "execution_count": 0,
      "outputs": [
        {
          "output_type": "stream",
          "text": [
            "3\n"
          ],
          "name": "stdout"
        }
      ]
    },
    {
      "cell_type": "code",
      "metadata": {
        "id": "g3REju21TLcz",
        "colab_type": "code",
        "colab": {},
        "outputId": "5cda93ef-baef-4bb8-cf40-556a8b86b89b"
      },
      "source": [
        "if 1 < 2:\n",
        "    print('first')\n",
        "else:\n",
        "    print('last')"
      ],
      "execution_count": 0,
      "outputs": [
        {
          "output_type": "stream",
          "text": [
            "first\n"
          ],
          "name": "stdout"
        }
      ]
    },
    {
      "cell_type": "code",
      "metadata": {
        "id": "p2PJ5SdZTLc0",
        "colab_type": "code",
        "colab": {},
        "outputId": "9e4bd38b-dca1-4f4b-e1c6-bd5078c83c2b"
      },
      "source": [
        "if 1 > 2:\n",
        "    print('first')\n",
        "else:\n",
        "    print('last')"
      ],
      "execution_count": 0,
      "outputs": [
        {
          "output_type": "stream",
          "text": [
            "last\n"
          ],
          "name": "stdout"
        }
      ]
    },
    {
      "cell_type": "markdown",
      "metadata": {
        "id": "VFfJdvvuTLc2",
        "colab_type": "text"
      },
      "source": [
        "Pseudocode:\n",
        "\n",
        "If 1 is equal to 2\n",
        "\n",
        "    Print 'first'\n",
        "    \n",
        "Else If 3 is equal to 3\n",
        "\n",
        "    Print 'middle'\n",
        "    \n",
        "Else\n",
        "    \n",
        "    Print 'Last'\n",
        "    \n",
        "End If    "
      ]
    },
    {
      "cell_type": "code",
      "metadata": {
        "id": "O4bNFqFzTLc2",
        "colab_type": "code",
        "colab": {},
        "outputId": "7631f81e-839a-49a2-c500-48459794db21"
      },
      "source": [
        "if 1 == 2:\n",
        "    print('first')\n",
        "elif 3 == 3:\n",
        "    print('middle')\n",
        "else:\n",
        "    print('Last')"
      ],
      "execution_count": 0,
      "outputs": [
        {
          "output_type": "stream",
          "text": [
            "middle\n"
          ],
          "name": "stdout"
        }
      ]
    },
    {
      "cell_type": "code",
      "metadata": {
        "id": "UtxYenjwTLc4",
        "colab_type": "code",
        "colab": {},
        "outputId": "7a829a1d-1289-4434-b26e-82a3d26a976c"
      },
      "source": [
        "if 1 == 2:\n",
        "    print('first')\n",
        "elif 4 == 4:\n",
        "    print('second')\n",
        "elif 3 == 3:\n",
        "    print('third')\n",
        "else:\n",
        "    print('Last')"
      ],
      "execution_count": 0,
      "outputs": [
        {
          "output_type": "stream",
          "text": [
            "second\n"
          ],
          "name": "stdout"
        }
      ]
    },
    {
      "cell_type": "code",
      "metadata": {
        "id": "p7jC0CHoTLc8",
        "colab_type": "code",
        "colab": {},
        "outputId": "feaf62dc-421c-4ed1-dbb3-09b67c890f53"
      },
      "source": [
        "# Short-hand if\n",
        "\n",
        "a = 2\n",
        "b = 1\n",
        "\n",
        "if a > b: print(\"a is greater than b\")"
      ],
      "execution_count": 0,
      "outputs": [
        {
          "output_type": "stream",
          "text": [
            "a is greater than b\n"
          ],
          "name": "stdout"
        }
      ]
    },
    {
      "cell_type": "code",
      "metadata": {
        "id": "_cBdZhMKTLdF",
        "colab_type": "code",
        "colab": {},
        "outputId": "2d6cde58-2ef3-4c9b-cd74-fc52ea8007ba"
      },
      "source": [
        "# Short-hand if-else\n",
        "\n",
        "a = 2\n",
        "b = 3\n",
        "\n",
        "print(\"A\") if a > b else print(\"B\")"
      ],
      "execution_count": 0,
      "outputs": [
        {
          "output_type": "stream",
          "text": [
            "B\n"
          ],
          "name": "stdout"
        }
      ]
    },
    {
      "cell_type": "markdown",
      "metadata": {
        "id": "BkK2A-i3TLdG",
        "colab_type": "text"
      },
      "source": [
        "## For Loops\n",
        "\n",
        "- A **for** loop is used for iterating over a sequence or a Collection Data Type (that is either a list (also a range), a tuple, a dictionary, a set, or a string)."
      ]
    },
    {
      "cell_type": "markdown",
      "metadata": {
        "id": "FW_FPYQCTLdG",
        "colab_type": "text"
      },
      "source": [
        "Pseudocode:\n",
        "\n",
        "Iterate over each item in the \"seq\" list\n",
        "    \n",
        "    Print each item\n",
        "    \n",
        "End Iteration"
      ]
    },
    {
      "cell_type": "code",
      "metadata": {
        "id": "l510zPVFTLdG",
        "colab_type": "code",
        "colab": {}
      },
      "source": [
        "seq = [1,2,3,4,5]"
      ],
      "execution_count": 0,
      "outputs": []
    },
    {
      "cell_type": "code",
      "metadata": {
        "id": "iGE8YnNsTLdH",
        "colab_type": "code",
        "colab": {},
        "outputId": "71aa35a8-d444-4dac-86dd-6c49632bd8f6"
      },
      "source": [
        "for item in seq:\n",
        "    print(item)"
      ],
      "execution_count": 0,
      "outputs": [
        {
          "output_type": "stream",
          "text": [
            "1\n",
            "2\n",
            "3\n",
            "4\n",
            "5\n"
          ],
          "name": "stdout"
        }
      ]
    },
    {
      "cell_type": "code",
      "metadata": {
        "id": "Xnz85FUCTLdJ",
        "colab_type": "code",
        "colab": {},
        "outputId": "c6e7ef02-a77f-4b78-a0c5-f409174c6b0b"
      },
      "source": [
        "for item in seq:\n",
        "    print('Yep')"
      ],
      "execution_count": 0,
      "outputs": [
        {
          "output_type": "stream",
          "text": [
            "Yep\n",
            "Yep\n",
            "Yep\n",
            "Yep\n",
            "Yep\n"
          ],
          "name": "stdout"
        }
      ]
    },
    {
      "cell_type": "code",
      "metadata": {
        "id": "fx4oSJ-tTLdL",
        "colab_type": "code",
        "colab": {},
        "outputId": "72d9b3ab-d715-4a16-f8b2-72c64d05baa4"
      },
      "source": [
        "for dummy in seq:\n",
        "    print(dummy+dummy)"
      ],
      "execution_count": 0,
      "outputs": [
        {
          "output_type": "stream",
          "text": [
            "2\n",
            "4\n",
            "6\n",
            "8\n",
            "10\n"
          ],
          "name": "stdout"
        }
      ]
    },
    {
      "cell_type": "code",
      "metadata": {
        "id": "cVphhUeqTLdQ",
        "colab_type": "code",
        "colab": {},
        "outputId": "2a0eb699-daa6-4b4c-a475-8fab6eaf4d94"
      },
      "source": [
        "for num in seq:\n",
        "    print(num)"
      ],
      "execution_count": 0,
      "outputs": [
        {
          "output_type": "stream",
          "text": [
            "1\n",
            "2\n",
            "3\n",
            "4\n",
            "5\n"
          ],
          "name": "stdout"
        }
      ]
    },
    {
      "cell_type": "markdown",
      "metadata": {
        "id": "KNYs1_lWTLdU",
        "colab_type": "text"
      },
      "source": [
        "## List Comprehension\n",
        "\n",
        "- List comprehensions provide a concise way to create lists. \n",
        "- It consists of brackets containing an expression followed by a for clause, then zero or more for or if clauses."
      ]
    },
    {
      "cell_type": "markdown",
      "metadata": {
        "id": "jpEF0-rWTLdU",
        "colab_type": "text"
      },
      "source": [
        "Pseudocode:\n",
        "\n",
        "Goal: Create a new list with the squares of items from the existing list\n",
        "\n",
        "--\n",
        "\n",
        "Given list \"x\"\n",
        "\n",
        "Initialize result list \"out\"\n",
        "\n",
        "Iterate over each item in the list \"x\"\n",
        "    \n",
        "    Calculate square of \"x\"\n",
        "    Append the calculated result to \"out\" list\n",
        "End Iteration    \n",
        "\n",
        "Print \"out\" list"
      ]
    },
    {
      "cell_type": "code",
      "metadata": {
        "jupyter": {
          "outputs_hidden": true
        },
        "id": "eI5qMI1fTLdU",
        "colab_type": "code",
        "colab": {}
      },
      "source": [
        "x = [1,2,3,4]"
      ],
      "execution_count": 0,
      "outputs": []
    },
    {
      "cell_type": "code",
      "metadata": {
        "id": "6dJD9wYyTLdY",
        "colab_type": "code",
        "colab": {},
        "outputId": "2d3090b5-77d6-4b5c-f505-69120a5c6c02"
      },
      "source": [
        "out = []\n",
        "for num in x:\n",
        "    out.append(num**2)\n",
        "print(out)"
      ],
      "execution_count": 0,
      "outputs": [
        {
          "output_type": "stream",
          "text": [
            "[1, 4, 9, 16]\n"
          ],
          "name": "stdout"
        }
      ]
    },
    {
      "cell_type": "code",
      "metadata": {
        "id": "dyR6U39vTLda",
        "colab_type": "code",
        "colab": {}
      },
      "source": [
        "out = [num**2 for num in x]"
      ],
      "execution_count": 0,
      "outputs": []
    },
    {
      "cell_type": "code",
      "metadata": {
        "id": "dXMJczRwTLdb",
        "colab_type": "code",
        "colab": {},
        "outputId": "3586965d-6176-4727-aed9-6549d0e0e87e"
      },
      "source": [
        "out"
      ],
      "execution_count": 0,
      "outputs": [
        {
          "output_type": "execute_result",
          "data": {
            "text/plain": [
              "[1, 4, 9, 16]"
            ]
          },
          "metadata": {
            "tags": []
          },
          "execution_count": 137
        }
      ]
    },
    {
      "cell_type": "code",
      "metadata": {
        "id": "viqG4s6WTLdc",
        "colab_type": "code",
        "colab": {},
        "outputId": "e96b7c87-ddbd-4636-e5ba-69120ff2e7da"
      },
      "source": [
        "out = []\n",
        "for num in range(1,11):\n",
        "    if (num % 2 == 0):\n",
        "        out.append(num)\n",
        "print(out)"
      ],
      "execution_count": 0,
      "outputs": [
        {
          "output_type": "stream",
          "text": [
            "[2, 4, 6, 8, 10]\n"
          ],
          "name": "stdout"
        }
      ]
    },
    {
      "cell_type": "code",
      "metadata": {
        "id": "EGWBKQGHTLdf",
        "colab_type": "code",
        "colab": {},
        "outputId": "ce460964-36cb-4c2f-e1d9-1006595c4fe9"
      },
      "source": [
        "[num for num in range(1,11) if (num % 2 == 0)]"
      ],
      "execution_count": 0,
      "outputs": [
        {
          "output_type": "execute_result",
          "data": {
            "text/plain": [
              "[2, 4, 6, 8, 10]"
            ]
          },
          "metadata": {
            "tags": []
          },
          "execution_count": 139
        }
      ]
    },
    {
      "cell_type": "code",
      "metadata": {
        "id": "JPlNv7U0TLdg",
        "colab_type": "code",
        "colab": {},
        "outputId": "923e75cb-340a-4774-f26e-f8133e1f53d4"
      },
      "source": [
        "out = []\n",
        "for num in range(1,11):\n",
        "    if (num % 2 == 0):\n",
        "        out.append(num)\n",
        "    else:\n",
        "        out.append(0)\n",
        "print(out)"
      ],
      "execution_count": 0,
      "outputs": [
        {
          "output_type": "stream",
          "text": [
            "[0, 2, 0, 4, 0, 6, 0, 8, 0, 10]\n"
          ],
          "name": "stdout"
        }
      ]
    },
    {
      "cell_type": "code",
      "metadata": {
        "id": "TCt9z-hGTLdm",
        "colab_type": "code",
        "colab": {},
        "outputId": "7ed5a8ed-ca7f-4f2d-c5e7-c871e84bf189"
      },
      "source": [
        "[num if (num % 2 == 0) else 0 for num in range(1,11) ]"
      ],
      "execution_count": 0,
      "outputs": [
        {
          "output_type": "execute_result",
          "data": {
            "text/plain": [
              "[0, 2, 0, 4, 0, 6, 0, 8, 0, 10]"
            ]
          },
          "metadata": {
            "tags": []
          },
          "execution_count": 141
        }
      ]
    },
    {
      "cell_type": "markdown",
      "metadata": {
        "id": "UxtxLNV2TLdn",
        "colab_type": "text"
      },
      "source": [
        "## While Loops\n",
        "\n",
        "- With the while loop we can execute a set of statements as long as a condition is True."
      ]
    },
    {
      "cell_type": "code",
      "metadata": {
        "id": "HNiWzCoxTLdn",
        "colab_type": "code",
        "colab": {},
        "outputId": "50748bbf-0179-491a-9d6b-a920b5dbb0f7"
      },
      "source": [
        "i = 1\n",
        "while i < 5:\n",
        "    print('i is: {}'.format(i))\n",
        "    i += 1"
      ],
      "execution_count": 0,
      "outputs": [
        {
          "output_type": "stream",
          "text": [
            "i is: 1\n",
            "i is: 2\n",
            "i is: 3\n",
            "i is: 4\n"
          ],
          "name": "stdout"
        }
      ]
    },
    {
      "cell_type": "markdown",
      "metadata": {
        "id": "Jiuc2ynUTLdp",
        "colab_type": "text"
      },
      "source": [
        "## Functions"
      ]
    },
    {
      "cell_type": "code",
      "metadata": {
        "id": "kYP0D23ZTLdp",
        "colab_type": "code",
        "colab": {}
      },
      "source": [
        "def print_hello_world():\n",
        "    print('Hello World')"
      ],
      "execution_count": 0,
      "outputs": []
    },
    {
      "cell_type": "code",
      "metadata": {
        "id": "byquyheLTLdr",
        "colab_type": "code",
        "colab": {},
        "outputId": "64e421a6-6aef-4a1d-c25a-56d80a9112ce"
      },
      "source": [
        "print_hello_world"
      ],
      "execution_count": 0,
      "outputs": [
        {
          "output_type": "execute_result",
          "data": {
            "text/plain": [
              "<function __main__.print_hello_world()>"
            ]
          },
          "metadata": {
            "tags": []
          },
          "execution_count": 144
        }
      ]
    },
    {
      "cell_type": "code",
      "metadata": {
        "id": "rj_PwXevTLds",
        "colab_type": "code",
        "colab": {},
        "outputId": "2e0dc054-2456-4a87-c7dc-b6c947819afc"
      },
      "source": [
        "print_hello_world()"
      ],
      "execution_count": 0,
      "outputs": [
        {
          "output_type": "stream",
          "text": [
            "Hello World\n"
          ],
          "name": "stdout"
        }
      ]
    },
    {
      "cell_type": "code",
      "metadata": {
        "id": "6NIDv-onTLdu",
        "colab_type": "code",
        "colab": {}
      },
      "source": [
        "def my_func(param1):\n",
        "    \"\"\"\n",
        "    Docstring goes here.\n",
        "    \"\"\"\n",
        "    print('Hurray!', param1)"
      ],
      "execution_count": 0,
      "outputs": []
    },
    {
      "cell_type": "code",
      "metadata": {
        "id": "ubkZbE4UTLdv",
        "colab_type": "code",
        "colab": {}
      },
      "source": [
        "# my_func"
      ],
      "execution_count": 0,
      "outputs": []
    },
    {
      "cell_type": "code",
      "metadata": {
        "id": "grQrIsh-TLdw",
        "colab_type": "code",
        "colab": {},
        "outputId": "630c7547-ce46-4f9b-d9cc-73c6531429ee"
      },
      "source": [
        "my_func('My first python function')"
      ],
      "execution_count": 0,
      "outputs": [
        {
          "output_type": "stream",
          "text": [
            "Hurray! My first python function\n"
          ],
          "name": "stdout"
        }
      ]
    },
    {
      "cell_type": "code",
      "metadata": {
        "jupyter": {
          "outputs_hidden": true
        },
        "id": "Bd0YArjATLdx",
        "colab_type": "code",
        "colab": {}
      },
      "source": [
        "def my_func(name='Anonymous'):\n",
        "    \"\"\"\n",
        "    Docstring goes here.\n",
        "    This can go multiple lines.\n",
        "    This function prints your name else print default name\n",
        "    \"\"\"\n",
        "    print('Hello ' + name)"
      ],
      "execution_count": 0,
      "outputs": []
    },
    {
      "cell_type": "code",
      "metadata": {
        "id": "V-PzgYPmTLdz",
        "colab_type": "code",
        "colab": {},
        "outputId": "d77a979a-0e3c-4e51-9c6c-7fee4963fa21"
      },
      "source": [
        "# Shift + Tab - to see the Docstring\n",
        "\n",
        "my_func\n",
        "\n",
        "#  OR\n",
        "\n",
        "# my_func?"
      ],
      "execution_count": 0,
      "outputs": [
        {
          "output_type": "execute_result",
          "data": {
            "text/plain": [
              "<function __main__.my_func(name='Anonymous')>"
            ]
          },
          "metadata": {
            "tags": []
          },
          "execution_count": 150
        }
      ]
    },
    {
      "cell_type": "code",
      "metadata": {
        "id": "VeTDs9Z0TLd2",
        "colab_type": "code",
        "colab": {},
        "outputId": "6311b4ef-cfdc-4125-b955-58dd38049054"
      },
      "source": [
        "my_func('Python')"
      ],
      "execution_count": 0,
      "outputs": [
        {
          "output_type": "stream",
          "text": [
            "Hello Python\n"
          ],
          "name": "stdout"
        }
      ]
    },
    {
      "cell_type": "code",
      "metadata": {
        "id": "F8kw752TTLd4",
        "colab_type": "code",
        "colab": {},
        "outputId": "c522a18c-8020-4131-b8a8-ed157cecf58b"
      },
      "source": [
        "my_func()"
      ],
      "execution_count": 0,
      "outputs": [
        {
          "output_type": "stream",
          "text": [
            "Hello Anonymous\n"
          ],
          "name": "stdout"
        }
      ]
    },
    {
      "cell_type": "code",
      "metadata": {
        "id": "YGxvJtyhTLd5",
        "colab_type": "code",
        "colab": {},
        "outputId": "56c8a5ce-6545-421f-e34e-1b684eba9c8c"
      },
      "source": [
        "my_func(name='New Name')"
      ],
      "execution_count": 0,
      "outputs": [
        {
          "output_type": "stream",
          "text": [
            "Hello New Name\n"
          ],
          "name": "stdout"
        }
      ]
    },
    {
      "cell_type": "code",
      "metadata": {
        "jupyter": {
          "outputs_hidden": true
        },
        "id": "RAdLl1neTLd7",
        "colab_type": "code",
        "colab": {}
      },
      "source": [
        "def square(x):\n",
        "    return x**2"
      ],
      "execution_count": 0,
      "outputs": []
    },
    {
      "cell_type": "code",
      "metadata": {
        "jupyter": {
          "outputs_hidden": true
        },
        "id": "9hwBVlgkTLd9",
        "colab_type": "code",
        "colab": {}
      },
      "source": [
        "out = square(2)"
      ],
      "execution_count": 0,
      "outputs": []
    },
    {
      "cell_type": "code",
      "metadata": {
        "scrolled": true,
        "id": "eOTl0e6_TLd-",
        "colab_type": "code",
        "colab": {},
        "outputId": "09a44f89-2de1-44cf-8438-771c40f31ecc"
      },
      "source": [
        "print(out)"
      ],
      "execution_count": 0,
      "outputs": [
        {
          "output_type": "stream",
          "text": [
            "4\n"
          ],
          "name": "stdout"
        }
      ]
    },
    {
      "cell_type": "markdown",
      "metadata": {
        "id": "tEjZpW28TLd_",
        "colab_type": "text"
      },
      "source": [
        "## range() - Range Function\n",
        "\n",
        "- Create a sequence of numbers\n",
        "- Syntax: range(start, stop [, step])"
      ]
    },
    {
      "cell_type": "code",
      "metadata": {
        "id": "Iwt1KCJTTLd_",
        "colab_type": "code",
        "colab": {},
        "outputId": "0113c043-a0a9-48a9-fc5d-c84560b08c58"
      },
      "source": [
        "range(5)"
      ],
      "execution_count": 0,
      "outputs": [
        {
          "output_type": "execute_result",
          "data": {
            "text/plain": [
              "range(0, 5)"
            ]
          },
          "metadata": {
            "tags": []
          },
          "execution_count": 157
        }
      ]
    },
    {
      "cell_type": "code",
      "metadata": {
        "id": "9TDCOCRcTLeB",
        "colab_type": "code",
        "colab": {},
        "outputId": "472c3c04-438f-44af-ecde-3224cb61da72"
      },
      "source": [
        "for i in range(5):\n",
        "    print(i)"
      ],
      "execution_count": 0,
      "outputs": [
        {
          "output_type": "stream",
          "text": [
            "0\n",
            "1\n",
            "2\n",
            "3\n",
            "4\n"
          ],
          "name": "stdout"
        }
      ]
    },
    {
      "cell_type": "code",
      "metadata": {
        "id": "s0Kvvq0ETLeC",
        "colab_type": "code",
        "colab": {},
        "outputId": "5720b010-125a-44aa-9051-fd09990a321d"
      },
      "source": [
        "list(range(5))"
      ],
      "execution_count": 0,
      "outputs": [
        {
          "output_type": "execute_result",
          "data": {
            "text/plain": [
              "[0, 1, 2, 3, 4]"
            ]
          },
          "metadata": {
            "tags": []
          },
          "execution_count": 159
        }
      ]
    },
    {
      "cell_type": "markdown",
      "metadata": {
        "id": "VKzMlAwJTLeF",
        "colab_type": "text"
      },
      "source": [
        "## Lambda Expressions\n",
        "\n",
        "- A lambda function is a single-line anonymous function.\n",
        "- A lambda function can take any number of arguments, but can only have one expression. An expression is a piece of code executed by the lambda function, which may or may not return any value.\n",
        "\n",
        "Usage:\n",
        "- Lambda functions are used when you need a function for a short period of time. This is commonly used when you want to pass a function as an argument to higher-order functions, that is, functions that take other functions as their arguments.\n"
      ]
    },
    {
      "cell_type": "code",
      "metadata": {
        "jupyter": {
          "outputs_hidden": true
        },
        "id": "9LR4xW_RTLeF",
        "colab_type": "code",
        "colab": {}
      },
      "source": [
        "def double(num):\n",
        "    return num*2"
      ],
      "execution_count": 0,
      "outputs": []
    },
    {
      "cell_type": "code",
      "metadata": {
        "id": "hb-4jWapTLeG",
        "colab_type": "code",
        "colab": {},
        "outputId": "3b366ece-9bc2-48d4-e756-10e574855bf3"
      },
      "source": [
        "double(2)"
      ],
      "execution_count": 0,
      "outputs": [
        {
          "output_type": "execute_result",
          "data": {
            "text/plain": [
              "4"
            ]
          },
          "metadata": {
            "tags": []
          },
          "execution_count": 161
        }
      ]
    },
    {
      "cell_type": "code",
      "metadata": {
        "id": "9InwicIlTLeH",
        "colab_type": "code",
        "colab": {}
      },
      "source": [
        "def double_2(num): return num*2"
      ],
      "execution_count": 0,
      "outputs": []
    },
    {
      "cell_type": "code",
      "metadata": {
        "id": "_WaS-Lj6TLeI",
        "colab_type": "code",
        "colab": {},
        "outputId": "7f06f5d0-a275-44b1-ca91-8d4a5fd1cd4b"
      },
      "source": [
        "double_2(2)"
      ],
      "execution_count": 0,
      "outputs": [
        {
          "output_type": "execute_result",
          "data": {
            "text/plain": [
              "4"
            ]
          },
          "metadata": {
            "tags": []
          },
          "execution_count": 163
        }
      ]
    },
    {
      "cell_type": "code",
      "metadata": {
        "id": "gopaeMiITLeK",
        "colab_type": "code",
        "colab": {},
        "outputId": "4c856aba-c42e-442f-bf41-3fb206c612cc"
      },
      "source": [
        "lambda num: num*2"
      ],
      "execution_count": 0,
      "outputs": [
        {
          "output_type": "execute_result",
          "data": {
            "text/plain": [
              "<function __main__.<lambda>(num)>"
            ]
          },
          "metadata": {
            "tags": []
          },
          "execution_count": 164
        }
      ]
    },
    {
      "cell_type": "markdown",
      "metadata": {
        "id": "xmqDSK_4TLeL",
        "colab_type": "text"
      },
      "source": [
        "## Functions - map() and filter() and reduce()\n",
        "\n",
        "- These are three functions which facilitate a **functional approach** to Python programming.\n"
      ]
    },
    {
      "cell_type": "markdown",
      "metadata": {
        "id": "Wg6AVFXuTLeL",
        "colab_type": "text"
      },
      "source": [
        "**Map Function**"
      ]
    },
    {
      "cell_type": "code",
      "metadata": {
        "jupyter": {
          "outputs_hidden": true
        },
        "id": "NFpuk17dTLeM",
        "colab_type": "code",
        "colab": {}
      },
      "source": [
        "seq = [1,2,3,4,5]"
      ],
      "execution_count": 0,
      "outputs": []
    },
    {
      "cell_type": "code",
      "metadata": {
        "id": "IfQNJeifTLeN",
        "colab_type": "code",
        "colab": {}
      },
      "source": [
        "out = []\n",
        "for num in seq:\n",
        "    out.append(num*2)"
      ],
      "execution_count": 0,
      "outputs": []
    },
    {
      "cell_type": "code",
      "metadata": {
        "id": "b9MwGltyTLeQ",
        "colab_type": "code",
        "colab": {},
        "outputId": "f2d70c43-47e9-4e44-d0c0-55a31d543a03"
      },
      "source": [
        "out"
      ],
      "execution_count": 0,
      "outputs": [
        {
          "output_type": "execute_result",
          "data": {
            "text/plain": [
              "[2, 4, 6, 8, 10]"
            ]
          },
          "metadata": {
            "tags": []
          },
          "execution_count": 167
        }
      ]
    },
    {
      "cell_type": "markdown",
      "metadata": {
        "id": "NuQmo2bOTLeR",
        "colab_type": "text"
      },
      "source": [
        "**Syntax:** map(func, *iterable)"
      ]
    },
    {
      "cell_type": "code",
      "metadata": {
        "id": "FsFjrVJBTLeR",
        "colab_type": "code",
        "colab": {},
        "outputId": "fed89702-319c-47ba-ec1b-6635a3f2148b"
      },
      "source": [
        "map(double, seq)"
      ],
      "execution_count": 0,
      "outputs": [
        {
          "output_type": "execute_result",
          "data": {
            "text/plain": [
              "<map at 0x106388ed0>"
            ]
          },
          "metadata": {
            "tags": []
          },
          "execution_count": 168
        }
      ]
    },
    {
      "cell_type": "code",
      "metadata": {
        "id": "gcAJ9RSFTLeW",
        "colab_type": "code",
        "colab": {},
        "outputId": "4a71cde0-da2d-44cd-b18a-ecc3711c8a75"
      },
      "source": [
        "list(map(double, seq))"
      ],
      "execution_count": 0,
      "outputs": [
        {
          "output_type": "execute_result",
          "data": {
            "text/plain": [
              "[2, 4, 6, 8, 10]"
            ]
          },
          "metadata": {
            "tags": []
          },
          "execution_count": 169
        }
      ]
    },
    {
      "cell_type": "code",
      "metadata": {
        "id": "qIyHD_mkTLea",
        "colab_type": "code",
        "colab": {},
        "outputId": "464a4ade-7863-4179-e746-af98ff90748b"
      },
      "source": [
        "list(map(lambda num: num*2, seq))"
      ],
      "execution_count": 0,
      "outputs": [
        {
          "output_type": "execute_result",
          "data": {
            "text/plain": [
              "[2, 4, 6, 8, 10]"
            ]
          },
          "metadata": {
            "tags": []
          },
          "execution_count": 170
        }
      ]
    },
    {
      "cell_type": "markdown",
      "metadata": {
        "id": "wcjdTOPoTLee",
        "colab_type": "text"
      },
      "source": [
        "**Filter Function**"
      ]
    },
    {
      "cell_type": "code",
      "metadata": {
        "id": "eSwcXJyRTLef",
        "colab_type": "code",
        "colab": {}
      },
      "source": [
        "out = []\n",
        "for num in seq:\n",
        "    if num % 2 == 0:\n",
        "        out.append(num)"
      ],
      "execution_count": 0,
      "outputs": []
    },
    {
      "cell_type": "code",
      "metadata": {
        "id": "5t6eF9wsTLeh",
        "colab_type": "code",
        "colab": {},
        "outputId": "b92f2cbd-a54d-4741-8d42-87e099ed95a3"
      },
      "source": [
        "out"
      ],
      "execution_count": 0,
      "outputs": [
        {
          "output_type": "execute_result",
          "data": {
            "text/plain": [
              "[2, 4]"
            ]
          },
          "metadata": {
            "tags": []
          },
          "execution_count": 172
        }
      ]
    },
    {
      "cell_type": "markdown",
      "metadata": {
        "id": "qxN5b46gTLei",
        "colab_type": "text"
      },
      "source": [
        "**Syntax:** filter(func, *iterable)"
      ]
    },
    {
      "cell_type": "code",
      "metadata": {
        "id": "MGISOUAtTLei",
        "colab_type": "code",
        "colab": {},
        "outputId": "6f1af263-2dc0-4244-d31d-8def00a09af9"
      },
      "source": [
        "filter(lambda num: num%2 == 0, seq)"
      ],
      "execution_count": 0,
      "outputs": [
        {
          "output_type": "execute_result",
          "data": {
            "text/plain": [
              "<filter at 0x106358610>"
            ]
          },
          "metadata": {
            "tags": []
          },
          "execution_count": 173
        }
      ]
    },
    {
      "cell_type": "code",
      "metadata": {
        "id": "Ev0EwT1HTLeo",
        "colab_type": "code",
        "colab": {},
        "outputId": "7099e4c0-08fc-4253-a563-8a02be70dbcc"
      },
      "source": [
        "list(filter(lambda num: num%2 == 0, seq))"
      ],
      "execution_count": 0,
      "outputs": [
        {
          "output_type": "execute_result",
          "data": {
            "text/plain": [
              "[2, 4]"
            ]
          },
          "metadata": {
            "tags": []
          },
          "execution_count": 174
        }
      ]
    },
    {
      "cell_type": "markdown",
      "metadata": {
        "id": "N6-lWYqpTLep",
        "colab_type": "text"
      },
      "source": [
        "**Reduce Function**"
      ]
    },
    {
      "cell_type": "code",
      "metadata": {
        "id": "cVbdB5DsTLep",
        "colab_type": "code",
        "colab": {}
      },
      "source": [
        "seq = [1,2,3,4,5]"
      ],
      "execution_count": 0,
      "outputs": []
    },
    {
      "cell_type": "code",
      "metadata": {
        "id": "Gtqp7k2pTLeq",
        "colab_type": "code",
        "colab": {}
      },
      "source": [
        "# Product of all elements in the List\n",
        "\n",
        "result = 1;\n",
        "for num in seq:\n",
        "    result = result * num"
      ],
      "execution_count": 0,
      "outputs": []
    },
    {
      "cell_type": "code",
      "metadata": {
        "id": "GTtk8d5lTLes",
        "colab_type": "code",
        "colab": {},
        "outputId": "edf4d872-7315-487a-8dc5-f9b180251a75"
      },
      "source": [
        "result"
      ],
      "execution_count": 0,
      "outputs": [
        {
          "output_type": "execute_result",
          "data": {
            "text/plain": [
              "120"
            ]
          },
          "metadata": {
            "tags": []
          },
          "execution_count": 177
        }
      ]
    },
    {
      "cell_type": "markdown",
      "metadata": {
        "id": "7lhD6Qo-TLev",
        "colab_type": "text"
      },
      "source": [
        "**Syntax:** reduce(func, *iterable)"
      ]
    },
    {
      "cell_type": "code",
      "metadata": {
        "id": "WENWd9D8TLew",
        "colab_type": "code",
        "colab": {}
      },
      "source": [
        "from functools import reduce\n",
        "\n",
        "product = reduce(lambda x, y: x * y, seq)"
      ],
      "execution_count": 0,
      "outputs": []
    },
    {
      "cell_type": "code",
      "metadata": {
        "id": "n3I1O853TLex",
        "colab_type": "code",
        "colab": {},
        "outputId": "39e387ab-1225-4159-ef54-2abc30df58ca"
      },
      "source": [
        "product"
      ],
      "execution_count": 0,
      "outputs": [
        {
          "output_type": "execute_result",
          "data": {
            "text/plain": [
              "120"
            ]
          },
          "metadata": {
            "tags": []
          },
          "execution_count": 179
        }
      ]
    },
    {
      "cell_type": "code",
      "metadata": {
        "id": "4Yiv2K2ETLe3",
        "colab_type": "code",
        "colab": {}
      },
      "source": [
        ""
      ],
      "execution_count": 0,
      "outputs": []
    },
    {
      "cell_type": "code",
      "metadata": {
        "id": "Be_nBYC_TLe-",
        "colab_type": "code",
        "colab": {},
        "outputId": "89608c79-ca47-45f6-91ef-87c56751a92d"
      },
      "source": [
        "# Python Library Reduce Function\n",
        "\n",
        "sum(seq)"
      ],
      "execution_count": 0,
      "outputs": [
        {
          "output_type": "execute_result",
          "data": {
            "text/plain": [
              "15"
            ]
          },
          "metadata": {
            "tags": []
          },
          "execution_count": 180
        }
      ]
    },
    {
      "cell_type": "markdown",
      "metadata": {
        "id": "SanFBFhATLfA",
        "colab_type": "text"
      },
      "source": [
        "## Classes and Objects\n",
        "\n",
        "- Python is an object oriented programming language.\n",
        "- Classes provide a means of bundling data (to maintain the state) and functionality (methods) together. \n",
        "- A Class is like an object constructor, or a \"blueprint\" for creating objects.\n",
        "- Instances of the Class are called Objects."
      ]
    },
    {
      "cell_type": "code",
      "metadata": {
        "id": "FoCHuVMqTLfB",
        "colab_type": "code",
        "colab": {}
      },
      "source": [
        "class Employee:\n",
        "  def __init__(self, name, age, dept): #within class, the specifics will appear in this order now that they are defined).\n",
        "    self.name = name\n",
        "    self.age = age\n",
        "    self.dept = dept\n",
        "\n",
        "  def print_name(self):\n",
        "    print(\"Hello my name is \" + self.name)\n",
        "    \n",
        "  def print_dept(self):\n",
        "    print(\"Employee Department is {}\".format(self.dept))\n",
        "\n",
        "  def update_age(self, new_age):\n",
        "    self.age = new_age\n",
        "    print(\"Employee age updated to {}\".format(new_age))\n"
      ],
      "execution_count": 0,
      "outputs": []
    },
    {
      "cell_type": "code",
      "metadata": {
        "id": "D1-KH-8xTLfC",
        "colab_type": "code",
        "colab": {}
      },
      "source": [
        "emp1 = Employee(\"John\", 30, 'Finance')"
      ],
      "execution_count": 0,
      "outputs": []
    },
    {
      "cell_type": "code",
      "metadata": {
        "id": "R2T8uLfzTLfD",
        "colab_type": "code",
        "colab": {},
        "outputId": "b3694b85-a528-437b-a72f-e53ed9697a4a"
      },
      "source": [
        "emp1.print_name()"
      ],
      "execution_count": 0,
      "outputs": [
        {
          "output_type": "stream",
          "text": [
            "Hello my name is John\n"
          ],
          "name": "stdout"
        }
      ]
    },
    {
      "cell_type": "code",
      "metadata": {
        "id": "VxKn-iquTLfE",
        "colab_type": "code",
        "colab": {},
        "outputId": "78b6adde-e253-4fc0-b2ed-77c19c63c4cc"
      },
      "source": [
        "emp1.print_dept()"
      ],
      "execution_count": 0,
      "outputs": [
        {
          "output_type": "stream",
          "text": [
            "Employee Department is Finance\n"
          ],
          "name": "stdout"
        }
      ]
    },
    {
      "cell_type": "code",
      "metadata": {
        "id": "k3BleC12TLfG",
        "colab_type": "code",
        "colab": {},
        "outputId": "b585f434-9cff-4d72-f028-e1c3056e21d5"
      },
      "source": [
        "emp1.age"
      ],
      "execution_count": 0,
      "outputs": [
        {
          "output_type": "execute_result",
          "data": {
            "text/plain": [
              "30"
            ]
          },
          "metadata": {
            "tags": []
          },
          "execution_count": 185
        }
      ]
    },
    {
      "cell_type": "code",
      "metadata": {
        "id": "SPK36EDcTLfI",
        "colab_type": "code",
        "colab": {},
        "outputId": "537e0343-05cf-4ec3-9ae5-41ca0de6bb25"
      },
      "source": [
        "emp1.update_age(40)"
      ],
      "execution_count": 0,
      "outputs": [
        {
          "output_type": "stream",
          "text": [
            "Employee age updated to 40\n"
          ],
          "name": "stdout"
        }
      ]
    },
    {
      "cell_type": "code",
      "metadata": {
        "id": "MU6sCJKoTLfJ",
        "colab_type": "code",
        "colab": {},
        "outputId": "79a1d19d-77ff-4823-eefb-94153b0d47a0"
      },
      "source": [
        "emp1.age"
      ],
      "execution_count": 0,
      "outputs": [
        {
          "output_type": "execute_result",
          "data": {
            "text/plain": [
              "40"
            ]
          },
          "metadata": {
            "tags": []
          },
          "execution_count": 187
        }
      ]
    },
    {
      "cell_type": "markdown",
      "metadata": {
        "id": "anrfxFuWTLfK",
        "colab_type": "text"
      },
      "source": [
        "## Methods"
      ]
    },
    {
      "cell_type": "code",
      "metadata": {
        "jupyter": {
          "outputs_hidden": true
        },
        "id": "JB52-ijvTLfK",
        "colab_type": "code",
        "colab": {}
      },
      "source": [
        "st = 'hello my name is Bob'"
      ],
      "execution_count": 0,
      "outputs": []
    },
    {
      "cell_type": "code",
      "metadata": {
        "id": "oEc3WR2yTLfO",
        "colab_type": "code",
        "colab": {},
        "outputId": "87129c34-8f52-4890-9b0d-8bc9c23faa3d"
      },
      "source": [
        "st.lower()"
      ],
      "execution_count": 0,
      "outputs": [
        {
          "output_type": "execute_result",
          "data": {
            "text/plain": [
              "'hello my name is bob'"
            ]
          },
          "metadata": {
            "tags": []
          },
          "execution_count": 189
        }
      ]
    },
    {
      "cell_type": "code",
      "metadata": {
        "id": "lGGxgJOfTLfP",
        "colab_type": "code",
        "colab": {},
        "outputId": "c4198812-12e9-4d49-bca0-b0b4468a015d"
      },
      "source": [
        "st.upper()"
      ],
      "execution_count": 0,
      "outputs": [
        {
          "output_type": "execute_result",
          "data": {
            "text/plain": [
              "'HELLO MY NAME IS BOB'"
            ]
          },
          "metadata": {
            "tags": []
          },
          "execution_count": 190
        }
      ]
    },
    {
      "cell_type": "code",
      "metadata": {
        "id": "TMPEmJOeTLfQ",
        "colab_type": "code",
        "colab": {},
        "outputId": "14c44f7c-be32-4634-c6c9-9c461038b929"
      },
      "source": [
        "st.split() #if split() is open paranthesis, it automatically splits on ' ' unless otherwise indicated"
      ],
      "execution_count": 0,
      "outputs": [
        {
          "output_type": "execute_result",
          "data": {
            "text/plain": [
              "['hello', 'my', 'name', 'is', 'Bob']"
            ]
          },
          "metadata": {
            "tags": []
          },
          "execution_count": 191
        }
      ]
    },
    {
      "cell_type": "code",
      "metadata": {
        "jupyter": {
          "outputs_hidden": true
        },
        "id": "ShPS5jAGTLfS",
        "colab_type": "code",
        "colab": {}
      },
      "source": [
        "tweet = 'Go Sports! #Sports'"
      ],
      "execution_count": 0,
      "outputs": []
    },
    {
      "cell_type": "code",
      "metadata": {
        "id": "nQjvn1EbTLfT",
        "colab_type": "code",
        "colab": {},
        "outputId": "42373fa4-c94c-482d-ec99-875c5d9e7ff3"
      },
      "source": [
        "tweet.split('#')"
      ],
      "execution_count": 0,
      "outputs": [
        {
          "output_type": "execute_result",
          "data": {
            "text/plain": [
              "['Go Sports! ', 'Sports']"
            ]
          },
          "metadata": {
            "tags": []
          },
          "execution_count": 193
        }
      ]
    },
    {
      "cell_type": "code",
      "metadata": {
        "id": "Cyxvjz52TLfW",
        "colab_type": "code",
        "colab": {},
        "outputId": "b2b49cfe-8bbc-45e0-b4f7-9f23fb25967d"
      },
      "source": [
        "tweet.split('#')[1]"
      ],
      "execution_count": 0,
      "outputs": [
        {
          "output_type": "execute_result",
          "data": {
            "text/plain": [
              "'Sports'"
            ]
          },
          "metadata": {
            "tags": []
          },
          "execution_count": 194
        }
      ]
    },
    {
      "cell_type": "code",
      "metadata": {
        "id": "Jc-907ATTLfb",
        "colab_type": "code",
        "colab": {}
      },
      "source": [
        ""
      ],
      "execution_count": 0,
      "outputs": []
    },
    {
      "cell_type": "code",
      "metadata": {
        "id": "IsdYBA2OTLfd",
        "colab_type": "code",
        "colab": {}
      },
      "source": [
        "d = {'key1': 1, 'key2': 2}"
      ],
      "execution_count": 0,
      "outputs": []
    },
    {
      "cell_type": "code",
      "metadata": {
        "id": "qfhHpHFSTLfe",
        "colab_type": "code",
        "colab": {
          "base_uri": "https://localhost:8080/",
          "height": 34
        },
        "outputId": "d54e224a-5f69-4803-dbe7-0d8c56046752"
      },
      "source": [
        "d.keys()"
      ],
      "execution_count": 2,
      "outputs": [
        {
          "output_type": "execute_result",
          "data": {
            "text/plain": [
              "dict_keys(['key1', 'key2'])"
            ]
          },
          "metadata": {
            "tags": []
          },
          "execution_count": 2
        }
      ]
    },
    {
      "cell_type": "code",
      "metadata": {
        "id": "7fBs2RKCTLfg",
        "colab_type": "code",
        "colab": {
          "base_uri": "https://localhost:8080/",
          "height": 34
        },
        "outputId": "0301924c-14e1-4811-c00d-c5ec51572a29"
      },
      "source": [
        "d.items()"
      ],
      "execution_count": 3,
      "outputs": [
        {
          "output_type": "execute_result",
          "data": {
            "text/plain": [
              "dict_items([('key1', 1), ('key2', 2)])"
            ]
          },
          "metadata": {
            "tags": []
          },
          "execution_count": 3
        }
      ]
    },
    {
      "cell_type": "code",
      "metadata": {
        "id": "z0tUQdoJTLfh",
        "colab_type": "code",
        "colab": {
          "base_uri": "https://localhost:8080/",
          "height": 34
        },
        "outputId": "b1078fa8-befb-44b3-f262-7fed74c5915a"
      },
      "source": [
        "d.values()"
      ],
      "execution_count": 35,
      "outputs": [
        {
          "output_type": "execute_result",
          "data": {
            "text/plain": [
              "dict_values([[1, 2, 3, {'inner_key': ['work', 'from', 'home', {'target_key': [1, 2, 3, 'found']}]}]])"
            ]
          },
          "metadata": {
            "tags": []
          },
          "execution_count": 35
        }
      ]
    },
    {
      "cell_type": "code",
      "metadata": {
        "id": "hymYVfXKTLfi",
        "colab_type": "code",
        "colab": {}
      },
      "source": [
        ""
      ],
      "execution_count": 0,
      "outputs": []
    },
    {
      "cell_type": "code",
      "metadata": {
        "jupyter": {
          "outputs_hidden": true
        },
        "id": "_CfMMKAATLfj",
        "colab_type": "code",
        "colab": {}
      },
      "source": [
        "lst = [1,2,3]"
      ],
      "execution_count": 0,
      "outputs": []
    },
    {
      "cell_type": "code",
      "metadata": {
        "id": "vwy31HR3TLfk",
        "colab_type": "code",
        "colab": {},
        "outputId": "85ab5335-3b00-47b4-bdab-e3c27bcf0a29"
      },
      "source": [
        "lst.pop()"
      ],
      "execution_count": 0,
      "outputs": [
        {
          "output_type": "execute_result",
          "data": {
            "text/plain": [
              "3"
            ]
          },
          "metadata": {
            "tags": []
          },
          "execution_count": 200
        }
      ]
    },
    {
      "cell_type": "code",
      "metadata": {
        "id": "7O2KuHpQTLfm",
        "colab_type": "code",
        "colab": {},
        "outputId": "db54ed49-e77b-44d6-e83f-7f02bf24ffa8"
      },
      "source": [
        "lst"
      ],
      "execution_count": 0,
      "outputs": [
        {
          "output_type": "execute_result",
          "data": {
            "text/plain": [
              "[1, 2]"
            ]
          },
          "metadata": {
            "tags": []
          },
          "execution_count": 201
        }
      ]
    },
    {
      "cell_type": "code",
      "metadata": {
        "id": "FFyO41f_TLfp",
        "colab_type": "code",
        "colab": {}
      },
      "source": [
        "lst = [1,2,3,4,5]"
      ],
      "execution_count": 0,
      "outputs": []
    },
    {
      "cell_type": "code",
      "metadata": {
        "id": "TuiUxzq3TLfq",
        "colab_type": "code",
        "colab": {}
      },
      "source": [
        "item = lst.pop()"
      ],
      "execution_count": 0,
      "outputs": []
    },
    {
      "cell_type": "code",
      "metadata": {
        "id": "vNRUXXbtTLfs",
        "colab_type": "code",
        "colab": {},
        "outputId": "28df4424-feda-406a-ac12-04f3e7f58969"
      },
      "source": [
        "lst"
      ],
      "execution_count": 0,
      "outputs": [
        {
          "output_type": "execute_result",
          "data": {
            "text/plain": [
              "[1, 2, 3, 4]"
            ]
          },
          "metadata": {
            "tags": []
          },
          "execution_count": 204
        }
      ]
    },
    {
      "cell_type": "code",
      "metadata": {
        "id": "oOLh9EL-TLfx",
        "colab_type": "code",
        "colab": {},
        "outputId": "134d260d-904f-4cca-beab-f8b6e15eb818"
      },
      "source": [
        "item"
      ],
      "execution_count": 0,
      "outputs": [
        {
          "output_type": "execute_result",
          "data": {
            "text/plain": [
              "5"
            ]
          },
          "metadata": {
            "tags": []
          },
          "execution_count": 205
        }
      ]
    },
    {
      "cell_type": "markdown",
      "metadata": {
        "id": "87Y90QcnTLfy",
        "colab_type": "text"
      },
      "source": [
        "### Membership Operator"
      ]
    },
    {
      "cell_type": "code",
      "metadata": {
        "id": "iOJ7AACWTLfz",
        "colab_type": "code",
        "colab": {},
        "outputId": "92516220-2bc3-4030-cd7d-e194e9b1becf"
      },
      "source": [
        "'x' in [1,2,3] #check if the value exists in the list (is it a member of the list)"
      ],
      "execution_count": 0,
      "outputs": [
        {
          "output_type": "execute_result",
          "data": {
            "text/plain": [
              "False"
            ]
          },
          "metadata": {
            "tags": []
          },
          "execution_count": 206
        }
      ]
    },
    {
      "cell_type": "code",
      "metadata": {
        "id": "cfIaKCM_TLf0",
        "colab_type": "code",
        "colab": {},
        "outputId": "f4c14398-11e3-4257-fd54-6fc4581599db"
      },
      "source": [
        "'x' in ['x','y','z']"
      ],
      "execution_count": 0,
      "outputs": [
        {
          "output_type": "execute_result",
          "data": {
            "text/plain": [
              "True"
            ]
          },
          "metadata": {
            "tags": []
          },
          "execution_count": 207
        }
      ]
    },
    {
      "cell_type": "markdown",
      "metadata": {
        "id": "TrEaTQZXTLf1",
        "colab_type": "text"
      },
      "source": [
        "### Tuple Unpacking"
      ]
    },
    {
      "cell_type": "code",
      "metadata": {
        "id": "_473QF4ATLf1",
        "colab_type": "code",
        "colab": {}
      },
      "source": [
        "lst_of_tuples = [(1, 'A'), (2, 'B'), (3, 'Z')] #tuples are an ordered list that is unmutable (cannot be altered or reordered). This allows me to assign the specific listing within tuple to a specific variable)"
      ],
      "execution_count": 0,
      "outputs": []
    },
    {
      "cell_type": "code",
      "metadata": {
        "id": "3SIJj0CeTLf2",
        "colab_type": "code",
        "colab": {
          "base_uri": "https://localhost:8080/",
          "height": 34
        },
        "outputId": "225b38cc-0020-4387-fe95-c8e8340b1c09"
      },
      "source": [
        "lst_of_tuples"
      ],
      "execution_count": 6,
      "outputs": [
        {
          "output_type": "execute_result",
          "data": {
            "text/plain": [
              "[(1, 'A'), (2, 'B'), (3, 'Z')]"
            ]
          },
          "metadata": {
            "tags": []
          },
          "execution_count": 6
        }
      ]
    },
    {
      "cell_type": "code",
      "metadata": {
        "id": "5uHW1vSETLf3",
        "colab_type": "code",
        "colab": {
          "base_uri": "https://localhost:8080/",
          "height": 67
        },
        "outputId": "14507fac-9ab2-4895-fed2-caf846ca2c0e"
      },
      "source": [
        "for (num, char) in lst_of_tuples:\n",
        "    print('Num is {}, and character is {}'.format(num, char))"
      ],
      "execution_count": 7,
      "outputs": [
        {
          "output_type": "stream",
          "text": [
            "Num is 1, and character is A\n",
            "Num is 2, and character is B\n",
            "Num is 3, and character is Z\n"
          ],
          "name": "stdout"
        }
      ]
    },
    {
      "cell_type": "code",
      "metadata": {
        "id": "6NI1neMPWSLe",
        "colab_type": "code",
        "colab": {
          "base_uri": "https://localhost:8080/",
          "height": 67
        },
        "outputId": "1bccedbb-27b0-45fe-b285-6c63ea0fd568"
      },
      "source": [
        "for (_, char) in lst_of_tuples:\n",
        "    print('and character is {}'.format(char))"
      ],
      "execution_count": 11,
      "outputs": [
        {
          "output_type": "stream",
          "text": [
            "and character is A\n",
            "and character is B\n",
            "and character is Z\n"
          ],
          "name": "stdout"
        }
      ]
    },
    {
      "cell_type": "markdown",
      "metadata": {
        "id": "1ffgdGaoTLf5",
        "colab_type": "text"
      },
      "source": [
        "e.g. (x_train, y_train),(x_test, y_test) = tf.keras.datasets.mnist.load_data()"
      ]
    },
    {
      "cell_type": "code",
      "metadata": {
        "id": "p-JR-ifJTLf5",
        "colab_type": "code",
        "colab": {}
      },
      "source": [
        ""
      ],
      "execution_count": 0,
      "outputs": []
    },
    {
      "cell_type": "code",
      "metadata": {
        "id": "xez-68K6TLf7",
        "colab_type": "code",
        "colab": {}
      },
      "source": [
        "seq = [1, 2, 3, 4, 5]"
      ],
      "execution_count": 0,
      "outputs": []
    },
    {
      "cell_type": "code",
      "metadata": {
        "id": "iEI91SxWTLf_",
        "colab_type": "code",
        "colab": {
          "base_uri": "https://localhost:8080/",
          "height": 34
        },
        "outputId": "8cd6817d-edc8-486d-e8ad-875c4a09bf7c"
      },
      "source": [
        "seq"
      ],
      "execution_count": 13,
      "outputs": [
        {
          "output_type": "execute_result",
          "data": {
            "text/plain": [
              "[1, 2, 3, 4, 5]"
            ]
          },
          "metadata": {
            "tags": []
          },
          "execution_count": 13
        }
      ]
    },
    {
      "cell_type": "code",
      "metadata": {
        "id": "vhyka-3gTLgA",
        "colab_type": "code",
        "colab": {},
        "outputId": "d5047fa7-a538-41cc-a6fc-64f5c3e2d535"
      },
      "source": [
        "for (index, num) in enumerate(seq): #enumerate will return the collection of tuples in which the first parameter is the index number and the second is the value).\n",
        "    print('Number at Index {index} is {num}'.format(index=index, num=num))"
      ],
      "execution_count": 0,
      "outputs": [
        {
          "output_type": "stream",
          "text": [
            "Number at Index 0 is 1\n",
            "Number at Index 1 is 2\n",
            "Number at Index 2 is 3\n",
            "Number at Index 3 is 4\n",
            "Number at Index 4 is 5\n"
          ],
          "name": "stdout"
        }
      ]
    },
    {
      "cell_type": "markdown",
      "metadata": {
        "id": "YvP878dgTLgC",
        "colab_type": "text"
      },
      "source": [
        "## Good Job!!!"
      ]
    },
    {
      "cell_type": "markdown",
      "metadata": {
        "id": "DXDi5ldQTLgC",
        "colab_type": "text"
      },
      "source": [
        "## Exercises"
      ]
    },
    {
      "cell_type": "markdown",
      "metadata": {
        "id": "mwxl8EGyTLgD",
        "colab_type": "text"
      },
      "source": [
        "**Exercise 1 >** \n",
        "\n",
        "What is 8 to the power of 3?"
      ]
    },
    {
      "cell_type": "code",
      "metadata": {
        "id": "0M5oNOphTLgD",
        "colab_type": "code",
        "colab": {
          "base_uri": "https://localhost:8080/",
          "height": 34
        },
        "outputId": "6dbe0d52-8de8-413c-dcac-51f6293887a2"
      },
      "source": [
        "# Your code goes here\n",
        "8**3"
      ],
      "execution_count": 14,
      "outputs": [
        {
          "output_type": "execute_result",
          "data": {
            "text/plain": [
              "512"
            ]
          },
          "metadata": {
            "tags": []
          },
          "execution_count": 14
        }
      ]
    },
    {
      "cell_type": "markdown",
      "metadata": {
        "id": "h-odWJ3zTLgF",
        "colab_type": "text"
      },
      "source": [
        "**Excercise 2 >** \n",
        "\n",
        "Given the variables:\n",
        "\n",
        "    radiation = \"light\"\n",
        "    speed = 186282\n",
        "\n",
        "Use .format() to print the following string:\n",
        "\n",
        "    The speed of light in a vacuum is 186282 miles per second "
      ]
    },
    {
      "cell_type": "code",
      "metadata": {
        "id": "EW2Gv4YfTLgG",
        "colab_type": "code",
        "colab": {
          "base_uri": "https://localhost:8080/",
          "height": 50
        },
        "outputId": "2db5aac9-462b-4211-8dc8-c74bf0f61094"
      },
      "source": [
        "# Your code goes here\n",
        "#Solution 1: Define both variables, then print\n",
        "radiation = \"light\"\n",
        "speed = 186282\n",
        "\n",
        "print(f\"The speed of {radiation} in a vacuum is {speed} miles per second.\")\n",
        "\n",
        "#Solution 2: Define both variables, then format as follows\n",
        "radiation = \"light\"\n",
        "speed = 186282\n",
        "\n",
        "print('The speed of {} in a vacuum is {} miles per second.'.format(radiation,speed))"
      ],
      "execution_count": 25,
      "outputs": [
        {
          "output_type": "stream",
          "text": [
            "The speed of light in a vacuum is 186282 miles per second.\n",
            "The speed of light in a vacuum is 186282 miles per second\n"
          ],
          "name": "stdout"
        }
      ]
    },
    {
      "cell_type": "markdown",
      "metadata": {
        "id": "1HgZ6SghTLgH",
        "colab_type": "text"
      },
      "source": [
        "**Excercise 3 >**\n",
        "\n",
        "Given this nested list, use indexing to grab the word \"hey\""
      ]
    },
    {
      "cell_type": "code",
      "metadata": {
        "id": "T_PUnNqnTLgH",
        "colab_type": "code",
        "colab": {}
      },
      "source": [
        "lst = ['a', 'b', ['cc', 'dd', ['hey', 'fff']], 'g', 'h']"
      ],
      "execution_count": 0,
      "outputs": []
    },
    {
      "cell_type": "code",
      "metadata": {
        "id": "jssFO2UnTLgI",
        "colab_type": "code",
        "colab": {
          "base_uri": "https://localhost:8080/",
          "height": 34
        },
        "outputId": "abea767a-5e87-49c9-a8e0-385b486eb374"
      },
      "source": [
        "# Your code goes here\n",
        "lst = ['a', 'b', ['cc', 'dd', ['hey', 'fff']], 'g', 'h']\n",
        "lst[2][2][0]"
      ],
      "execution_count": 32,
      "outputs": [
        {
          "output_type": "execute_result",
          "data": {
            "text/plain": [
              "'hey'"
            ]
          },
          "metadata": {
            "tags": []
          },
          "execution_count": 32
        }
      ]
    },
    {
      "cell_type": "markdown",
      "metadata": {
        "id": "l_wZueSTTLgK",
        "colab_type": "text"
      },
      "source": [
        "**Excercise 4 >**\n",
        "\n",
        "Given this nested dictionary grab the word \"found\""
      ]
    },
    {
      "cell_type": "code",
      "metadata": {
        "id": "k9BHLo5wTLgK",
        "colab_type": "code",
        "colab": {}
      },
      "source": [
        "d = {'k1':[1,2,3,{'inner_key':['work','from','home',{'target_key':[1,2,3,'found']}]}]}"
      ],
      "execution_count": 0,
      "outputs": []
    },
    {
      "cell_type": "code",
      "metadata": {
        "id": "uUhssj9hTLgL",
        "colab_type": "code",
        "colab": {
          "base_uri": "https://localhost:8080/",
          "height": 34
        },
        "outputId": "b78ef4eb-f12d-4862-e422-dbf771303a4a"
      },
      "source": [
        "# Your code goes here\n",
        "#we index a dictionary by looking for a particular key instead of the index\n",
        "#the 3rd element of the list is the inner key\n",
        "#Within inner key, I am looking for the 3rd element\n",
        "#within the target key, I am looking for the 3rd index. Look based on curly brackets!\n",
        "d['k1'][3]['inner_key'][3]['target_key'][3]\n",
        "\n"
      ],
      "execution_count": 39,
      "outputs": [
        {
          "output_type": "execute_result",
          "data": {
            "text/plain": [
              "'found'"
            ]
          },
          "metadata": {
            "tags": []
          },
          "execution_count": 39
        }
      ]
    },
    {
      "cell_type": "markdown",
      "metadata": {
        "id": "WGGnQc6gTLgM",
        "colab_type": "text"
      },
      "source": [
        "**Excercise 5 >**\n",
        "\n",
        "Create a basic function that returns True if the word 'coding' is contained in the input string. \n",
        "Don't worry about edge cases like a punctuation being attached to the word coding, but do account for capitalization."
      ]
    },
    {
      "cell_type": "code",
      "metadata": {
        "id": "XY9zPKYmTLgM",
        "colab_type": "code",
        "colab": {}
      },
      "source": [
        "def findCoding(string):\n",
        "    # Your code goes here\n",
        "    if 'coding' or 'Coding' in string:\n",
        "        return True\n",
        "    else:\n",
        "        return False\n",
        "\n",
        "#Solution 2:\n",
        "def findCoding(string):\n",
        "    if 'coding' in string.lower():\n",
        "        return True\n",
        "    else:\n",
        "        return False"
      ],
      "execution_count": 0,
      "outputs": []
    },
    {
      "cell_type": "code",
      "metadata": {
        "id": "tfiRf8snTLgN",
        "colab_type": "code",
        "colab": {
          "base_uri": "https://localhost:8080/",
          "height": 34
        },
        "outputId": "b0b8fd5f-6a9f-4220-b9a8-dfb4c5f86acf"
      },
      "source": [
        "findCoding('Learning coding is fun and exciting')"
      ],
      "execution_count": 42,
      "outputs": [
        {
          "output_type": "execute_result",
          "data": {
            "text/plain": [
              "True"
            ]
          },
          "metadata": {
            "tags": []
          },
          "execution_count": 42
        }
      ]
    },
    {
      "cell_type": "code",
      "metadata": {
        "id": "hY24Pl0ETLgO",
        "colab_type": "code",
        "colab": {
          "base_uri": "https://localhost:8080/",
          "height": 34
        },
        "outputId": "036c9b04-3bd7-4f79-e65e-5e0b41ae7025"
      },
      "source": [
        "findCoding('I enjoy Coding!!!')"
      ],
      "execution_count": 43,
      "outputs": [
        {
          "output_type": "execute_result",
          "data": {
            "text/plain": [
              "True"
            ]
          },
          "metadata": {
            "tags": []
          },
          "execution_count": 43
        }
      ]
    },
    {
      "cell_type": "markdown",
      "metadata": {
        "id": "aEA9YpDZTLgP",
        "colab_type": "text"
      },
      "source": [
        "**Excercise 6 >**\n",
        "\n",
        "Return the number of even ints in the given array. (Write your function body in a single line)\n",
        "\n",
        "    count_evens([2, 1, 2, 3, 4]) → 3\n",
        "    count_evens([2, 2, 0]) → 3\n",
        "    count_evens([1, 3, 5]) → 0"
      ]
    },
    {
      "cell_type": "code",
      "metadata": {
        "id": "UqnIGfuFTLgQ",
        "colab_type": "code",
        "colab": {}
      },
      "source": [
        "def count_evens(nums):\n",
        "  # Your code goes here\n",
        "  count = 0\n",
        "  for n in nums:\n",
        "     if n % 2 == 0:\n",
        "       count += 1 #same as count = count + 1\n",
        "  return count"
      ],
      "execution_count": 0,
      "outputs": []
    },
    {
      "cell_type": "code",
      "metadata": {
        "id": "Vv6kdd7eTLgR",
        "colab_type": "code",
        "colab": {
          "base_uri": "https://localhost:8080/",
          "height": 246
        },
        "outputId": "0ba81def-0642-44f1-b898-9b622de1b620"
      },
      "source": [
        "count_evens([2, 1, 2, 3, 4]) "
      ],
      "execution_count": 51,
      "outputs": [
        {
          "output_type": "error",
          "ename": "NameError",
          "evalue": "ignored",
          "traceback": [
            "\u001b[0;31m---------------------------------------------------------------------------\u001b[0m",
            "\u001b[0;31mNameError\u001b[0m                                 Traceback (most recent call last)",
            "\u001b[0;32m<ipython-input-51-0528bbb3d43f>\u001b[0m in \u001b[0;36m<module>\u001b[0;34m()\u001b[0m\n\u001b[0;32m----> 1\u001b[0;31m \u001b[0mcount_evens\u001b[0m\u001b[0;34m(\u001b[0m\u001b[0;34m[\u001b[0m\u001b[0;36m2\u001b[0m\u001b[0;34m,\u001b[0m \u001b[0;36m1\u001b[0m\u001b[0;34m,\u001b[0m \u001b[0;36m2\u001b[0m\u001b[0;34m,\u001b[0m \u001b[0;36m3\u001b[0m\u001b[0;34m,\u001b[0m \u001b[0;36m4\u001b[0m\u001b[0;34m]\u001b[0m\u001b[0;34m)\u001b[0m\u001b[0;34m\u001b[0m\u001b[0;34m\u001b[0m\u001b[0m\n\u001b[0m",
            "\u001b[0;32m<ipython-input-50-c1ede4ee3445>\u001b[0m in \u001b[0;36mcount_evens\u001b[0;34m(nums)\u001b[0m\n\u001b[1;32m      8\u001b[0m \u001b[0;34m\u001b[0m\u001b[0m\n\u001b[1;32m      9\u001b[0m   \u001b[0;31m#Solution 2\u001b[0m\u001b[0;34m\u001b[0m\u001b[0;34m\u001b[0m\u001b[0;34m\u001b[0m\u001b[0m\n\u001b[0;32m---> 10\u001b[0;31m   \u001b[0mfilter\u001b[0m\u001b[0;34m(\u001b[0m\u001b[0;32mlambda\u001b[0m \u001b[0mnum\u001b[0m\u001b[0;34m:\u001b[0m \u001b[0mnum\u001b[0m\u001b[0;34m%\u001b[0m\u001b[0;36m2\u001b[0m \u001b[0;34m==\u001b[0m \u001b[0;36m0\u001b[0m\u001b[0;34m,\u001b[0m \u001b[0mcount\u001b[0m\u001b[0;34m)\u001b[0m \u001b[0;31m#\u001b[0m\u001b[0;34m\u001b[0m\u001b[0;34m\u001b[0m\u001b[0m\n\u001b[0m",
            "\u001b[0;31mNameError\u001b[0m: name 'count' is not defined"
          ]
        }
      ]
    },
    {
      "cell_type": "code",
      "metadata": {
        "id": "az8smhUQTLgR",
        "colab_type": "code",
        "colab": {
          "base_uri": "https://localhost:8080/",
          "height": 34
        },
        "outputId": "dba67b34-95fb-4f25-9893-3d250fc6dcf2"
      },
      "source": [
        "count_evens([2, 2, 0])"
      ],
      "execution_count": 48,
      "outputs": [
        {
          "output_type": "execute_result",
          "data": {
            "text/plain": [
              "3"
            ]
          },
          "metadata": {
            "tags": []
          },
          "execution_count": 48
        }
      ]
    },
    {
      "cell_type": "code",
      "metadata": {
        "id": "FMGANyOxTLgS",
        "colab_type": "code",
        "colab": {
          "base_uri": "https://localhost:8080/",
          "height": 34
        },
        "outputId": "79c497e9-f5b1-484f-bdce-baa00359e260"
      },
      "source": [
        "count_evens([1, 3, 5]) "
      ],
      "execution_count": 49,
      "outputs": [
        {
          "output_type": "execute_result",
          "data": {
            "text/plain": [
              "0"
            ]
          },
          "metadata": {
            "tags": []
          },
          "execution_count": 49
        }
      ]
    },
    {
      "cell_type": "code",
      "metadata": {
        "id": "oWp2IcZTdOyd",
        "colab_type": "code",
        "colab": {
          "base_uri": "https://localhost:8080/",
          "height": 34
        },
        "outputId": "c9259c67-5e86-4ac4-c5c9-e3c6a4e68c5d"
      },
      "source": [
        " #Solution 2\n",
        "nums = [2, 1, 2, 3, 4]\n",
        "len(list(filter(lambda num: num%2 == 0, nums)))\n",
        "\n",
        "#filter allows all numbers to go through and identify evens\n",
        "#list creates new list from only even numbers\n",
        "#length counts how many items are in the new list"
      ],
      "execution_count": 57,
      "outputs": [
        {
          "output_type": "execute_result",
          "data": {
            "text/plain": [
              "3"
            ]
          },
          "metadata": {
            "tags": []
          },
          "execution_count": 57
        }
      ]
    },
    {
      "cell_type": "markdown",
      "metadata": {
        "id": "fDpRoaQHTLgT",
        "colab_type": "text"
      },
      "source": [
        "**Excercise 7 >**\n",
        "\n",
        "You are driving a little too fast, and a police officer stops you. Write a function to return one of 3 possible \n",
        "results: \"No ticket\", \"Small ticket\", or \"Big Ticket\".\n",
        "\n",
        "    If your speed is 60 or less, the result is \"No Ticket\". \n",
        "\n",
        "    If speed is between 61 and 80 inclusive, the result is \"Small Ticket\". \n",
        "\n",
        "    If speed is 81 or more, the result is \"Big Ticket\". \n",
        "\n",
        "Unless it is your birthday (encoded as a boolean value in the parameters of the function) -- on your birthday, your speed can be 5 higher in all cases."
      ]
    },
    {
      "cell_type": "code",
      "metadata": {
        "id": "btsqglVmTLgU",
        "colab_type": "code",
        "colab": {}
      },
      "source": [
        "    # Your code goes here\n",
        "def caught_speeding(speed, is_birthday):\n",
        "  if is_birthday == True:\n",
        "   speed = speed - 5\n",
        "  if speed <= 60:\n",
        "   print('No ticket')\n",
        "  elif speed >= 61 and speed <= 80:\n",
        "   print('Small ticket')\n",
        "  elif speed >= 81:\n",
        "   print ('Big ticket')\n",
        "    "
      ],
      "execution_count": 0,
      "outputs": []
    },
    {
      "cell_type": "code",
      "metadata": {
        "id": "eWiiGD6STLgU",
        "colab_type": "code",
        "colab": {
          "base_uri": "https://localhost:8080/",
          "height": 34
        },
        "outputId": "c7369644-998a-4f9c-c043-c5ecd475ba96"
      },
      "source": [
        "caught_speeding(81,True)"
      ],
      "execution_count": 61,
      "outputs": [
        {
          "output_type": "stream",
          "text": [
            "Big ticket\n"
          ],
          "name": "stdout"
        }
      ]
    },
    {
      "cell_type": "code",
      "metadata": {
        "id": "iV-brmA_TLgV",
        "colab_type": "code",
        "colab": {
          "base_uri": "https://localhost:8080/",
          "height": 34
        },
        "outputId": "5c17ede2-fcd2-4e22-b43d-8e733ce893c1"
      },
      "source": [
        "caught_speeding(81,False)"
      ],
      "execution_count": 62,
      "outputs": [
        {
          "output_type": "stream",
          "text": [
            "Big ticket\n"
          ],
          "name": "stdout"
        }
      ]
    },
    {
      "cell_type": "code",
      "metadata": {
        "id": "CoyLPJetTLgW",
        "colab_type": "code",
        "colab": {
          "base_uri": "https://localhost:8080/",
          "height": 34
        },
        "outputId": "1a8c724d-7529-4416-987d-baebba0ac986"
      },
      "source": [
        "caught_speeding(65,True)"
      ],
      "execution_count": 63,
      "outputs": [
        {
          "output_type": "stream",
          "text": [
            "Small ticket\n"
          ],
          "name": "stdout"
        }
      ]
    },
    {
      "cell_type": "code",
      "metadata": {
        "id": "ZS3lx6lrTLgX",
        "colab_type": "code",
        "colab": {
          "base_uri": "https://localhost:8080/",
          "height": 34
        },
        "outputId": "69dd43d6-1215-4ad0-8f82-2c0b0bc183ce"
      },
      "source": [
        "caught_speeding(65,False)"
      ],
      "execution_count": 64,
      "outputs": [
        {
          "output_type": "stream",
          "text": [
            "Small ticket\n"
          ],
          "name": "stdout"
        }
      ]
    },
    {
      "cell_type": "markdown",
      "metadata": {
        "id": "XIHLvq5wTLgZ",
        "colab_type": "text"
      },
      "source": [
        "## Well done!! "
      ]
    }
  ]
}